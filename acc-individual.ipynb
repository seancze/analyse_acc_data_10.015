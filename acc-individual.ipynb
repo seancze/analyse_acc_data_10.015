{
 "cells": [
  {
   "cell_type": "markdown",
   "metadata": {},
   "source": [
    "# Acceleration Data Processor (Individual)\n",
    "\n",
    "## How to use\n",
    "1. Make sure all the required packages are installed\n",
    "    * Run the following command to install if you haven't: ```pip install pandas matplotlib scipy openpyxl notebook```\n",
    "2. If you are seeing this, you are already running jupyter notebook\n",
    "3. To run this program, navigate to:\n",
    "    1. Menu Bar >\n",
    "    2. Kernel >\n",
    "    3. Restart & Run All\n",
    "4. Follow the prompts at the bottom of this notebook"
   ]
  },
  {
   "cell_type": "markdown",
   "metadata": {},
   "source": [
    "# 1) Import modules"
   ]
  },
  {
   "cell_type": "code",
   "execution_count": null,
   "metadata": {
    "scrolled": true
   },
   "outputs": [],
   "source": [
    "import pandas as pd\n",
    "pd.options.mode.chained_assignment = None \n",
    "\n",
    "import math\n",
    "import csv\n",
    "import os.path\n",
    "from scipy.signal import lfilter\n",
    "\n",
    "from aux import *"
   ]
  },
  {
   "cell_type": "markdown",
   "metadata": {},
   "source": [
    "# 2) Data Conversions"
   ]
  },
  {
   "cell_type": "markdown",
   "metadata": {},
   "source": [
    "## Filters, Creates new CSV, and Converts to Pandas Data Frames"
   ]
  },
  {
   "cell_type": "markdown",
   "metadata": {},
   "source": [
    "|**Parameter**|**Description**|**Variable Used**|**Description**|\n",
    "|:-|:-|:-|:-|\n",
    "|```file_name```|the name of the file (in string)|```formatted```|the csv file generated and one where filtering is applied to|\n",
    "|```title```|name of the file|```df```|the DataFrame generated from the formatted csv file|\n",
    "|```output_path```|the path for output| |\n"
   ]
  },
  {
   "cell_type": "code",
   "execution_count": null,
   "metadata": {},
   "outputs": [],
   "source": [
    "def csv2df(file_name, title, output_path, startIndex, interval, column_ids):\n",
    "    '''filter the csv file & import to DataFrame'''\n",
    "    formatted_output_path = output_path + \"/\" + title + \"-formatted.csv\"\n",
    "    \n",
    "    # Transform the user input in A1 format into index for use later\n",
    "    # [0: Time-stamp, 1: Acceleration X, 2: Acceleration Y, 3: Acceleration Z]\n",
    "    column_indexes = [a1ToIndex(colID, True) for colID in column_ids]\n",
    "    \n",
    "    # Opens the given file\n",
    "    my_file = open(file_name)\n",
    "    \n",
    "    # Creates a clean csv file for output\n",
    "    formatted = open(formatted_output_path,\"w\",newline='')\n",
    "    \n",
    "    # Sets this as csv\n",
    "    reader = csv.reader(my_file)\n",
    "    formatted_csv = csv.writer(formatted)\n",
    "    \n",
    "    # Create a header in formatted.\n",
    "    header = ['TimeStamp','TimeElapsed','Category','Acc-X','Acc-Y','Acc-Z']\n",
    "    formatted_csv.writerow(header)\n",
    "    \n",
    "    # Start filtering\n",
    "    i = 0 #initial value for the index, used for mapping\n",
    "    for item in reader:\n",
    "        if ((i-startIndex) >= 0) & (((i - startIndex) % interval) == 0):\n",
    "            each_line = []\n",
    "            for column_index in column_indexes:\n",
    "                try:\n",
    "                    each_line.append(item[column_index])\n",
    "                    # If the line above doesn't work,\n",
    "                    # it could mean that the .csv file is using delimiters other than a \"comma\"\n",
    "                    # or that some cells are blank\n",
    "                    # in either case, the function will still run regardless\n",
    "                except:\n",
    "                    pass \n",
    "            each_line.insert(1,0)\n",
    "            each_line.insert(2,\"Acceleration\")\n",
    "            formatted_csv.writerow(each_line)\n",
    "            i += 1\n",
    "        else:\n",
    "            i += 1\n",
    "            \n",
    "    # Closes the given file\n",
    "    my_file.close()\n",
    "    \n",
    "    # Change to Dataframe in pandas\n",
    "    df = pd.read_csv(formatted_output_path,header = 0)   \n",
    "\n",
    "    return df"
   ]
  },
  {
   "cell_type": "markdown",
   "metadata": {},
   "source": [
    "# 3) DataFrame Manipulation"
   ]
  },
  {
   "cell_type": "markdown",
   "metadata": {},
   "source": [
    "## Function to remove data for when train is stationary"
   ]
  },
  {
   "cell_type": "code",
   "execution_count": null,
   "metadata": {},
   "outputs": [],
   "source": [
    "def truncateStationaryValues(df, Threshold, isInG):\n",
    "    # Currently using a rolling average n of 5. Hence the use of \"3\" as the start index in range.\n",
    "    # You can change the n to any odd number. If you choose \"3\", then the start index will be 1 and the end index will be 1.\n",
    "    # Might consider doing this automatically later\n",
    "    \n",
    "    threshold = Threshold # Threshold is assigned here. Typically 0.02 if values are in m/s^2\n",
    "    \n",
    "    from copy import deepcopy\n",
    "    \n",
    "    acc_data = deepcopy(df.iloc[0:len(df),4].tolist())\n",
    "    \n",
    "    # print(isInG)\n",
    "    \n",
    "    if (isInG):\n",
    "        for i, e in enumerate(acc_data):\n",
    "            acc_data[i] = -e*9.81\n",
    "    else:\n",
    "        for i, e in enumerate(acc_data):\n",
    "            acc_data[i] = -e\n",
    "    \n",
    "    j = 3\n",
    "    rolling_avg_prev = (acc_data[j-2] + acc_data[j-1] + acc_data[j] + acc_data[j+1] + acc_data[j+2])/5\n",
    "    rolling_avg_cur = 0\n",
    "    truncate_index = 0\n",
    "    \n",
    "    for i in range(3, len(df) - 3):\n",
    "        rolling_avg_cur = (acc_data[i-2] + acc_data[i-1] + acc_data[i] + acc_data[i+1] + acc_data[i+2])/5\n",
    "        delta = rolling_avg_cur - rolling_avg_prev\n",
    "        if (delta > threshold):\n",
    "            # print(i, delta, acc_data[i]) # For debugging\n",
    "            truncate_index = i\n",
    "            break\n",
    "    \n",
    "    rowsToTruncate = [idx for idx in range(0, truncate_index)]\n",
    "    df = df.drop(rowsToTruncate)\n",
    "    return df"
   ]
  },
  {
   "cell_type": "markdown",
   "metadata": {},
   "source": [
    "## Function to Generate Time Elapsed"
   ]
  },
  {
   "cell_type": "code",
   "execution_count": null,
   "metadata": {},
   "outputs": [],
   "source": [
    "def timeElapsed(df, TimestampInMs): \n",
    "    # Calculate and write a time_elapsed column\n",
    "    \n",
    "    startTime = df.iloc[0,0]\n",
    "    if (TimestampInMs):        \n",
    "        for i in range(len(df)):\n",
    "            df.iloc[i,1]=(df.iloc[i,0]-startTime)/(1000)\n",
    "    else:\n",
    "        for i in range(len(df)):\n",
    "            df.iloc[i,1]=(df.iloc[i,0]-startTime)\n"
   ]
  },
  {
   "cell_type": "markdown",
   "metadata": {},
   "source": [
    "## Function to Generate Time Interval"
   ]
  },
  {
   "cell_type": "code",
   "execution_count": null,
   "metadata": {},
   "outputs": [],
   "source": [
    "def timeInterval(df):\n",
    "    '''calculate time interval from the TimeElpased colomn'''\n",
    "    \n",
    "    #index of TimeInterval: 6\n",
    "    timeInterval = [0]\n",
    "    for i in range (1,len(df)):\n",
    "        timeInterval.append(df.iloc[i,1]-df.iloc[i-1,1])\n",
    "        \n",
    "    df[\"TimeInterval\"]=timeInterval"
   ]
  },
  {
   "cell_type": "markdown",
   "metadata": {},
   "source": [
    "## Function to generate Acc-Y-Adjusted"
   ]
  },
  {
   "cell_type": "code",
   "execution_count": null,
   "metadata": {},
   "outputs": [],
   "source": [
    "def accAdjust(df, SmoothStep):\n",
    "    '''Generate the Acc-Y-Adjusted and take the shift value into account'''\n",
    "    \n",
    "    # Column index of Acc-Y-Adjusted: 7\n",
    "    \n",
    "    # Make a copy of the acc-y data and store it in acc_Y\n",
    "    # While doing so, change the data from a \"g\" based value to a ms^(-2) value\n",
    "    acc_Y = []\n",
    "    for i in range(len(df)):\n",
    "        acc_Y.append(-df.iloc[i,4]*9.8)\n",
    "        \n",
    "    # Does not respect isInG    \n",
    "    \n",
    "        \n",
    "    # Filter to remove noise\n",
    "    # Use the previous adjusted values in acc_Y\n",
    "    n = SmoothStep  # the larger n is, the smoother curve will be\n",
    "    b = [1.0 / n] * n # b, numerator coefficient vector in a 1-D sequence\n",
    "    a = 1 # a, denominator coefficient vector in a 1-D sequence\n",
    "    acc_Y_filtered = lfilter(b,a,acc_Y)\n",
    "    \n",
    "    # Set final filtered data to equal column \"Acc-Y-Adjusted\"\n",
    "    df[\"Acc-Y-Adjusted\"] = acc_Y_filtered\n",
    "    \n",
    "    # Shift the data by a set value\n",
    "    # Crude method by finding the mean of entire dataset\n",
    "    \n",
    "    shift_value = df[\"Acc-Y-Adjusted\"].mean()\n",
    "\n",
    "    for i in range(len(df)):\n",
    "        df.iloc[i,7] = df.iloc[i,7] - shift_value\n"
   ]
  },
  {
   "cell_type": "markdown",
   "metadata": {},
   "source": [
    "## Function to generate V-btw2"
   ]
  },
  {
   "cell_type": "code",
   "execution_count": null,
   "metadata": {},
   "outputs": [],
   "source": [
    "def dv(df):\n",
    "    '''Generate the d_v using the definition of integration using the Acc-Y-Adjusted values'''\n",
    "    \n",
    "    #index of V-btw2: 8\n",
    "    d_v = [0]\n",
    "    for i in range (1,len(df)):\n",
    "        velocity_each = 0.5*(df.iloc[i,7]+df.iloc[i-1,7])*df.iloc[i,6] #index7: Acc-Y-Adjusted, index6: TimeInterval\n",
    "        d_v.append(velocity_each)\n",
    "    \n",
    "    df[\"V-btw2\"]=d_v"
   ]
  },
  {
   "cell_type": "markdown",
   "metadata": {},
   "source": [
    "## Function to generate V(t)"
   ]
  },
  {
   "cell_type": "code",
   "execution_count": null,
   "metadata": {},
   "outputs": [],
   "source": [
    "def vt(df):\n",
    "    '''Generate the v(t) colomn to record the instantanious velocity in any data point'''\n",
    "    \n",
    "    #index of V(t): 9\n",
    "    false_list = [0]*len(df)\n",
    "    df[\"V(t)\"] = false_list\n",
    "    \n",
    "    for i in range(1,len(df)):\n",
    "    # index8: V-btw2\n",
    "        ins_v = df.iloc[i,8]+df.iloc[i-1,9]\n",
    "        df.iloc[i,9] = ins_v"
   ]
  },
  {
   "cell_type": "markdown",
   "metadata": {},
   "source": [
    "## Function to generate S-btw2"
   ]
  },
  {
   "cell_type": "code",
   "execution_count": null,
   "metadata": {},
   "outputs": [],
   "source": [
    "def ds(df):\n",
    "    '''Generate the d_s using the definition of integration using the V(t) values'''\n",
    "    \n",
    "    #index of S-btw2: 10\n",
    "    d_s = [0]\n",
    "    for i in range (1,len(df)):\n",
    "        # index9: v(t), index6: TimeInterval\n",
    "        displacement_each = 0.5*(df.iloc[i,9]+df.iloc[i-1,9])*df.iloc[i,6]\n",
    "        d_s.append(displacement_each)\n",
    "        \n",
    "    df[\"S-btw2\"] = d_s"
   ]
  },
  {
   "cell_type": "markdown",
   "metadata": {},
   "source": [
    "## Function to generate S(t)"
   ]
  },
  {
   "cell_type": "code",
   "execution_count": null,
   "metadata": {},
   "outputs": [],
   "source": [
    "def st(df):\n",
    "    '''Generate the s(t) colomn to record the instantanious displacement in any data point'''\n",
    "    \n",
    "    #index of V(t): 11\n",
    "    false_list = [0]*len(df)\n",
    "    df[\"S(t)\"] = false_list\n",
    "    \n",
    "    for i in range(1,len(df)):\n",
    "        # index10: S-btw2\n",
    "        ins_v = df.iloc[i,10]+df.iloc[i-1,11]\n",
    "        df.iloc[i,11] = ins_v"
   ]
  },
  {
   "cell_type": "markdown",
   "metadata": {},
   "source": [
    "## Function to integrate all the functions in this section"
   ]
  },
  {
   "cell_type": "code",
   "execution_count": null,
   "metadata": {},
   "outputs": [],
   "source": [
    "def dfFormat(df, dfFormatArgs):\n",
    "    df = truncateStationaryValues(df, dfFormatArgs[\"Threshold\"], dfFormatArgs[\"isInG\"])\n",
    "    df = df.reset_index(drop=True)\n",
    "    \n",
    "    timeElapsed(df, dfFormatArgs[\"TimestampInMs\"])\n",
    "    timeInterval(df)\n",
    "    accAdjust(df, dfFormatArgs[\"SmoothStepValue\"])\n",
    "    dv(df)\n",
    "    vt(df)\n",
    "    ds(df)\n",
    "    st(df)\n",
    "    \n",
    "    return df"
   ]
  },
  {
   "cell_type": "markdown",
   "metadata": {},
   "source": [
    "# 4) Physical Property Determination (Data Insights)"
   ]
  },
  {
   "cell_type": "markdown",
   "metadata": {},
   "source": [
    "## Total Time Taken"
   ]
  },
  {
   "cell_type": "code",
   "execution_count": null,
   "metadata": {},
   "outputs": [],
   "source": [
    "def totalTime(df):\n",
    "    '''Get the total time taken'''\n",
    "    \n",
    "    Total_Time_Taken = df.iloc[len(df)-1,1]\n",
    "    \n",
    "    return Total_Time_Taken"
   ]
  },
  {
   "cell_type": "markdown",
   "metadata": {},
   "source": [
    "## Total Distance Travelled"
   ]
  },
  {
   "cell_type": "code",
   "execution_count": null,
   "metadata": {},
   "outputs": [],
   "source": [
    "def distance(df):\n",
    "    '''Get the total distance travelled'''\n",
    "    \n",
    "    Total_Distance_Travelled = max(df[\"S(t)\"])\n",
    "    \n",
    "    return Total_Distance_Travelled"
   ]
  },
  {
   "cell_type": "markdown",
   "metadata": {},
   "source": [
    "## Max Velocity"
   ]
  },
  {
   "cell_type": "code",
   "execution_count": null,
   "metadata": {},
   "outputs": [],
   "source": [
    "def maxVelocity(df):\n",
    "    '''Get the max velocity'''\n",
    "    \n",
    "    Max_Velocity = max(df[\"V(t)\"])\n",
    "    \n",
    "    return Max_Velocity"
   ]
  },
  {
   "cell_type": "markdown",
   "metadata": {},
   "source": [
    "## Max Acceleration"
   ]
  },
  {
   "cell_type": "code",
   "execution_count": null,
   "metadata": {},
   "outputs": [],
   "source": [
    "def maxAcc(df):\n",
    "    '''Get the maxium Acceleration'''\n",
    "    \n",
    "    Max_Acceleration = max(df[\"Acc-Y-Adjusted\"])\n",
    "\n",
    "    return Max_Acceleration"
   ]
  },
  {
   "cell_type": "markdown",
   "metadata": {},
   "source": [
    "## Acceleration Cut-off Time & Average Acceleration"
   ]
  },
  {
   "cell_type": "code",
   "execution_count": null,
   "metadata": {},
   "outputs": [],
   "source": [
    "def acc(df):\n",
    "    '''Get the cut-off time for acceleration & Average Acceleration'''\n",
    "    \n",
    "    # To avoid early cut-off set the threshhold to be 5% of total journey\n",
    "    cutoff_threshold = 0.05\n",
    "    \n",
    "    # A list of the indexes for which the acceleration value is nagetive\n",
    "    negative_acc_list = df[df[\"Acc-Y-Adjusted\"] < 0].index.tolist()\n",
    "\n",
    "    while negative_acc_list[0] < cutoff_threshold*len(df):\n",
    "        negative_acc_list = negative_acc_list[1:]\n",
    "        \n",
    "    CutOff_Time = df.iloc[negative_acc_list[0],1]\n",
    "    \n",
    "    cutoff_idx = negative_acc_list[0]\n",
    "    acc_list = []\n",
    "    \n",
    "    for i in range(cutoff_idx):\n",
    "        acc_list.append(df.iloc[i,7])\n",
    "        \n",
    "    Average_Acceleration = sum(acc_list)/len(acc_list)\n",
    "    \n",
    "    return CutOff_Time, Average_Acceleration"
   ]
  },
  {
   "cell_type": "markdown",
   "metadata": {},
   "source": [
    "## Function to integrate all the functions in this section"
   ]
  },
  {
   "cell_type": "code",
   "execution_count": null,
   "metadata": {},
   "outputs": [],
   "source": [
    "def data(df):\n",
    "    Total_Distance_Travelled = distance(df)\n",
    "    Total_Time_Taken = totalTime(df)\n",
    "    Max_Velocity = maxVelocity(df)\n",
    "    CutOff_Time, Average_Acceleration = acc(df)\n",
    "    Max_Acceleration = maxAcc(df)\n",
    "    \n",
    "    result_data = f'''\n",
    "    # Total distance travelled: {Total_Distance_Travelled} m\n",
    "    # Total time taken: {Total_Time_Taken} s\n",
    "    # Max velocity: {Max_Velocity} m/s\n",
    "    # Cut-off time for acceleration: {CutOff_Time} s\n",
    "    # Average acceleration: {Average_Acceleration} m/s^2\n",
    "    # Max acceleration: {Max_Acceleration} m/s^2\n",
    "    '''\n",
    "    \n",
    "    return result_data"
   ]
  },
  {
   "cell_type": "markdown",
   "metadata": {},
   "source": [
    "# 5) Generating and Saving Graphs"
   ]
  },
  {
   "cell_type": "code",
   "execution_count": null,
   "metadata": {},
   "outputs": [],
   "source": [
    "def plotAndSaveGraphs(df, title, cutoff_time, max_velocity, total_distance, output_path):\n",
    "    # Plot A/t\n",
    "    args_at = {\"title\": title, \"type\": \"Acceleration\", \"xlabel\": \"time (s)\", \"ylabel\": \"Y-Axis Acceleration (m/s^2)\", \"xcoldata\": \"TimeElapsed\", \"ycoldata\": \"Acc-Y-Adjusted\", \"indicatorName\": \"Acceleration Cut-off\", \"indicatorData\": cutoff_time, \"path\": output_path}\n",
    "    plotAndSave(df, args_at)\n",
    "    \n",
    "    # Plot & Save V/t\n",
    "    args_vt = {\"title\": title, \"type\": \"Velocity\", \"xlabel\": \"time (s)\", \"ylabel\": \"Velocity (m/s)\", \"xcoldata\": \"TimeElapsed\", \"ycoldata\": \"V(t)\", \"indicatorName\": \"Max Velocity\", \"indicatorData\": max_velocity, \"path\": output_path}\n",
    "    plotAndSave(df, args_vt)\n",
    "    \n",
    "    # Plot & Save S/t\n",
    "    args_st = {\"title\": title, \"type\": \"Displacement\", \"xlabel\": \"time (s)\", \"ylabel\": \"Displacement (m)\", \"xcoldata\": \"TimeElapsed\", \"ycoldata\": \"S(t)\", \"indicatorName\": \"Total Distance Travelled\", \"indicatorData\": total_distance, \"path\": output_path}\n",
    "    plotAndSave(df, args_st)"
   ]
  },
  {
   "cell_type": "markdown",
   "metadata": {},
   "source": [
    "# 6) Main Function"
   ]
  },
  {
   "cell_type": "code",
   "execution_count": null,
   "metadata": {},
   "outputs": [],
   "source": [
    "def processFile():\n",
    "    # To do\n",
    "    # - semicolon delimiters support\n",
    "    # - global variable set and saving \n",
    "\n",
    "    # Get General Parameter Input\n",
    "    file_name, output_dir, isInMs, isInG, smoothStepValue, threshold = getGeneralParamInput()\n",
    "    dfFormatArgs = {\"TimestampInMs\": isInMs, \"SmoothStepValue\": smoothStepValue, \"Threshold\": threshold, \"isInG\": isInG}\n",
    "    \n",
    "    # Get File Interval and Column Entry Inputs\n",
    "    startIndex, interval, column_ids = getInputForColumns()\n",
    "    \n",
    "    # Setup Output Path\n",
    "    my_path = os.path.realpath(\"\")\n",
    "    output_path = my_path + output_dir\n",
    "    mkdir_p(output_path)\n",
    "    \n",
    "    # Get the title of the file\n",
    "    title = getTitleFromFile(file_name)\n",
    "    \n",
    "    # Reads csv file. Saves the new formatted file and converts it into a pandas data frame\n",
    "    df = csv2df(file_name, title, output_path, startIndex, interval, column_ids)\n",
    "    \n",
    "    # Calculations to get the adjusted acceleration, velocity, and displacement\n",
    "    df = dfFormat(df, dfFormatArgs) \n",
    "    \n",
    "    # Save the DataFrame as the csv file\n",
    "    formatted_csv_path = output_path + \"/\" + title + \"-formatted.csv\"\n",
    "    df.to_csv(formatted_csv_path)\n",
    "    \n",
    "    # Calculate Data Insights\n",
    "    result_data = data(df)\n",
    "    \n",
    "    # Save Data Insights to File\n",
    "    formatted_output_path = output_path + \"/\" + title + \"-insights.txt\"\n",
    "    insights_file = open(formatted_output_path,\"w\",newline='')\n",
    "    insights_file.write(result_data)\n",
    "    insights_file.close()\n",
    "    \n",
    "    # The next three lines are for use in plotting as parameters\n",
    "    Total_Distance = distance(df)\n",
    "    Max_Velocity = maxVelocity(df)\n",
    "    CutOff_Time, Average_Acceleration = acc(df)\n",
    "    \n",
    "    # Plot & save data to specified output location\n",
    "    plotAndSaveGraphs(df, title, CutOff_Time, Max_Velocity, Total_Distance, output_path)\n",
    "    \n",
    "    print(\"Program has finished running!\")\n",
    "    print(\"Results available at: {}\".format(output_path))"
   ]
  },
  {
   "cell_type": "markdown",
   "metadata": {},
   "source": [
    "# Run This"
   ]
  },
  {
   "cell_type": "code",
   "execution_count": null,
   "metadata": {
    "scrolled": true
   },
   "outputs": [],
   "source": [
    "print(\"--------------------------\"\\\n",
    "     \"Acceleration Data Cruncher\"\\\n",
    "     \"--------------------------\")\n",
    "\n",
    "menu = \"\\n\"\\\n",
    "\"MENU:\\n\"\\\n",
    "\"[1] Process File\\n\"\\\n",
    "\"[0] Exit\"\n",
    "\n",
    "uchoice = 1\n",
    "print(menu)\n",
    "uchoice = int(input(\"Enter Menu Option: \"))\n",
    "\n",
    "while (uchoice != 0):\n",
    "    if (uchoice == 1):\n",
    "        processFile()\n",
    "    print(menu)\n",
    "    uchoice = int(input(\"Enter Menu Option \"))"
   ]
  }
 ],
 "metadata": {
  "kernelspec": {
   "display_name": "Python 3",
   "language": "python",
   "name": "python3"
  },
  "language_info": {
   "codemirror_mode": {
    "name": "ipython",
    "version": 3
   },
   "file_extension": ".py",
   "mimetype": "text/x-python",
   "name": "python",
   "nbconvert_exporter": "python",
   "pygments_lexer": "ipython3",
   "version": "3.8.3"
  }
 },
 "nbformat": 4,
 "nbformat_minor": 2
}
