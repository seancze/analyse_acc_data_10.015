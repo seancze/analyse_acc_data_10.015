{
 "cells": [
  {
   "cell_type": "code",
   "execution_count": null,
   "metadata": {},
   "outputs": [],
   "source": [
    "import pandas as pd\n",
    "import numpy as np\n",
    "import seaborn as sns\n",
    "import matplotlib.pyplot as plt\n",
    "import math\n",
    "import statistics"
   ]
  },
  {
   "cell_type": "code",
   "execution_count": null,
   "metadata": {},
   "outputs": [],
   "source": [
    "df = pd.read_excel(r\"\")\n",
    "# Anomalous readings (Filtered by observation): Sixth Avenue > KAP (13), Upp Changi > Tamp East (23, 26), Tamp East > Upp Changi (24), CCK to Gombak (53), Entire NEL (67-72)\n"
   ]
  },
  {
   "cell_type": "code",
   "execution_count": null,
   "metadata": {},
   "outputs": [],
   "source": [
    "# pd.set_option('display.max_rows', 500)\n",
    "# Remove Anomalous readings\n",
    "df = df.drop([2, 4, 11, 13, 16, 23, 24, 25, 26, 35, 41, 53, 68])"
   ]
  },
  {
   "cell_type": "code",
   "execution_count": null,
   "metadata": {},
   "outputs": [],
   "source": [
    "# Drop readings < 500m as deemed as anomalous\n",
    "above_ground = df[(df[\"Above Ground\"]==\"Yes\") & (df[\"Distance Travelled (m)\"] > 500)]\n",
    "below_ground = df[(df[\"Above Ground\"]==\"No\") & (df[\"Distance Travelled (m)\"] > 500)]"
   ]
  },
  {
   "cell_type": "code",
   "execution_count": null,
   "metadata": {},
   "outputs": [],
   "source": [
    "# Just to init manual and automated variables\n",
    "manual = above_ground\n",
    "automated = below_ground"
   ]
  },
  {
   "cell_type": "code",
   "execution_count": null,
   "metadata": {},
   "outputs": [],
   "source": [
    "# To remove samples which still appear slightly anomalous and to analyse the subset of data where dist travelled is > 700m and less than 3000m\n",
    "automated_2 = automated[automated[\"Distance Travelled (m)\"] < 3000]\n",
    "manual_2 = manual[manual[\"Distance Travelled (m)\"] < 3000]"
   ]
  },
  {
   "cell_type": "code",
   "execution_count": null,
   "metadata": {},
   "outputs": [],
   "source": [
    "# Mean Acceleration\n",
    "auto_y = automated_2[\"Mean Acceleration (ms^-2)\"]\n",
    "manual_y = manual_2[\"Mean Acceleration (ms^-2)\"]\n",
    "\n",
    "# Total Distance\n",
    "auto_x = automated_2[\"Distance Travelled (m)\"]\n",
    "manual_x = manual_2[\"Distance Travelled (m)\"]\n",
    "\n",
    "# Total Time Taken\n",
    "auto_t = automated_2[\"Total Time Taken (s)\"]\n",
    "manual_t = manual_2[\"Total Time Taken (s)\"]\n",
    "\n",
    "# Max Velocity\n",
    "auto_v = automated_2[\"Max Velocity (ms^-1)\"]\n",
    "manual_v = manual_2[\"Max Velocity (ms^-1)\"]\n",
    "\n",
    "# Mean Velocity\n",
    "auto_mv = automated_2[\"Distance Travelled (m)\"] / automated_2[\"Total Time Taken (s)\"]\n",
    "manual_mv = manual_2[\"Distance Travelled (m)\"] / manual_2[\"Total Time Taken (s)\"]"
   ]
  },
  {
   "cell_type": "code",
   "execution_count": null,
   "metadata": {},
   "outputs": [],
   "source": [
    "# Obtain centroids\n",
    "auto_centroid = (sum(auto_t) / len(auto_t), sum(auto_y) / len(auto_y))\n",
    "manual_centroid = (sum(manual_t) / len(manual_t), sum(manual_y) / len(manual_y))\n",
    "\n",
    "plt.scatter(auto_t, auto_y, c='b', label='Automated')\n",
    "plt.scatter(manual_t, manual_y, c='r', label='Human Operated')\n",
    "plt.scatter(auto_centroid[0], auto_centroid[1], c='b', marker='x', s = 100, label='Automated Centroid')\n",
    "plt.scatter(manual_centroid[0], manual_centroid[1], c='r', marker='x', s = 100, label='Human Operated Centroid')\n",
    "plt.title(\"Acceleration-Time Graph\")\n",
    "plt.xlabel('Total Time Taken (s)')\n",
    "plt.ylabel('Mean Acceleration (ms^-2)')\n",
    "plt.legend(loc='best')\n",
    "plt.gcf().set_size_inches((10, 10))    \n",
    "plt.show()\n",
    "\n",
    "diff = auto_centroid[1] - manual_centroid[1]\n",
    "\n",
    "print(f\"Automated Centroid - Manual Centroid: {diff}ms^-2\")\n",
    "\n",
    "sns.regplot(auto_t, auto_mv, color = 'b')\n",
    "sns.regplot(manual_t, manual_mv, color = 'r')\n",
    "plt.xlabel(\"Total Time Taken (s)\")\n",
    "plt.ylabel(\"Mean Acceleration (ms^-2)\")\n",
    "plt.title(\"Acceleration-Time Graph\")\n",
    "plt.gcf().set_size_inches((10, 10)) "
   ]
  },
  {
   "cell_type": "code",
   "execution_count": null,
   "metadata": {},
   "outputs": [],
   "source": [
    "auto_centroid_2 = (sum(auto_x) / len(auto_x), sum(auto_y) / len(auto_y))\n",
    "manual_centroid_2 = (sum(manual_x) / len(manual_x), sum(manual_y) / len(manual_y))\n",
    "\n",
    "# Acceleration-Distance Graph\n",
    "plt.scatter(auto_x, auto_y, c='b', label='Below Ground')\n",
    "plt.scatter(manual_x, manual_y, c='r', label='Above Ground')\n",
    "plt.scatter(auto_centroid_2[0], auto_centroid_2[1], c='b', marker='x', s = 100, label='Centroid')\n",
    "plt.scatter(manual_centroid_2[0], manual_centroid_2[1], c='r', marker='x', s = 100, label='Centroid')\n",
    "plt.title('Acceleration-Distance Graph')\n",
    "plt.xlabel('Total Distance Travelled (m)')\n",
    "plt.ylabel('Mean Acceleration (ms^-2)')\n",
    "plt.legend(loc='best')\n",
    "plt.gcf().set_size_inches((10, 10))  \n",
    "plt.show()\n",
    "diff = auto_centroid_2[1] - manual_centroid_2[1]\n",
    "\n",
    "print(f\"Mean Acceleration (Below) - Mean Acceleration (Above): {diff}\")"
   ]
  },
  {
   "cell_type": "code",
   "execution_count": null,
   "metadata": {},
   "outputs": [],
   "source": [
    "# Mean Time Taken\n",
    "mean_t_below = auto_t.mean()\n",
    "mean_t_above = manual_t.mean()\n",
    "\n",
    "# Mean Distance Travelled\n",
    "mean_d_below = auto_x.mean()\n",
    "mean_d_above = manual_x.mean()\n",
    "\n",
    "# Mean Velocity\n",
    "mean_v_below = sum(auto_x) / sum(auto_t)\n",
    "mean_v_above = sum(manual_x) / sum(manual_t)\n",
    "\n",
    "# Mean Acceleration\n",
    "mean_a_below = auto_y.mean()\n",
    "mean_a_above = manual_y.mean()\n",
    "\n",
    "print(\n",
    "f'''\n",
    "Taking samples where distance travelled is between 500m and 3000m:\n",
    "\n",
    "Number of samples below ground = {len(automated_2)}\n",
    "Number of samples above ground = {len(manual_2)}\n",
    "\n",
    "Mean t (Below) = {mean_t_below}\n",
    "Mean t (Above) = {mean_t_above}\n",
    "\n",
    "Mean d (Below) = {mean_d_below}\n",
    "Mean d (Above) = {mean_d_above}\n",
    "\n",
    "Mean v (Below) = {mean_v_below}\n",
    "Mean v (Above) = {mean_v_above}\n",
    "\n",
    "Mean a (Below) = {mean_a_below}\n",
    "Mean a (Above) = {mean_a_above}\n",
    "\n",
    "Mean v (Above) - Mean v (Below) = {mean_v_above - mean_v_below}\n",
    "Mean a (Above) - Mean a (Below) = {mean_a_above - mean_a_below}\n",
    "''')"
   ]
  }
 ],
 "metadata": {
  "kernelspec": {
   "display_name": "Python 3",
   "language": "python",
   "name": "python3"
  },
  "language_info": {
   "codemirror_mode": {
    "name": "ipython",
    "version": 3
   },
   "file_extension": ".py",
   "mimetype": "text/x-python",
   "name": "python",
   "nbconvert_exporter": "python",
   "pygments_lexer": "ipython3",
   "version": "3.6.8"
  }
 },
 "nbformat": 4,
 "nbformat_minor": 2
}
