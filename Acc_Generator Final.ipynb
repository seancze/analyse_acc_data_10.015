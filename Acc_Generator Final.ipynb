{
 "cells": [
  {
   "cell_type": "markdown",
   "metadata": {},
   "source": [
    "# (Test) Finding required time-shift using cross-correlation\n",
    "Programmed by: Elvis\n",
    "\n",
    "This will find the best time-shift in order to get the same start and end points between two sets of data with one being the main set to compare against"
   ]
  },
  {
   "cell_type": "code",
   "execution_count": null,
   "metadata": {},
   "outputs": [],
   "source": []
  },
  {
   "cell_type": "markdown",
   "metadata": {},
   "source": [
    "# Acceleration Data Processor Version 2.0\n",
    "Programed by: Sean, Yijia, Elvis\n",
    "\n",
    "## How to use\n",
    "1. Make sure all the required packages are installed\n",
    "    * Run the following command to install if you haven't: ```pip install pandas matplotlib xlrd scipy notebook```\n",
    "2. If you are seeing this, you are already running jupyter notebook\n",
    "3. To run this program, navigate to:\n",
    "    1. Menu Bar >\n",
    "    2. Kernel >\n",
    "    3. Restart & Run All\n",
    "4. Follow the prompts at the bottom of this notebook"
   ]
  },
  {
   "cell_type": "markdown",
   "metadata": {},
   "source": [
    "# 1) Import modules"
   ]
  },
  {
   "cell_type": "code",
   "execution_count": null,
   "metadata": {
    "scrolled": true
   },
   "outputs": [],
   "source": [
    "import pandas as pd\n",
    "pd.options.mode.chained_assignment = None \n",
    "import csv\n",
    "import os.path\n",
    "import matplotlib.pyplot as plt\n",
    "from scipy.signal import lfilter\n",
    "import openpyxl\n",
    "import glob\n",
    "from openpyxl.utils.dataframe import dataframe_to_rows\n",
    "from openpyxl.utils import column_index_from_string\n",
    "import math"
   ]
  },
  {
   "cell_type": "markdown",
   "metadata": {},
   "source": [
    "# 2) Formatting the specified raw data provided in .csv format "
   ]
  },
  {
   "cell_type": "markdown",
   "metadata": {},
   "source": [
    "## Auxiliary Functions"
   ]
  },
  {
   "cell_type": "markdown",
   "metadata": {},
   "source": [
    "```getInputForColumns()```\n",
    "Returns a list with column ids as Strings.\n",
    "    \n",
    "The elements are column ids in A1 format and are set as follows:\\\n",
    "[Time-stamp, Acceleration X, Acceleration Y, Accelerationz]\n",
    "\n",
    "Function parameters:\\\n",
    "None"
   ]
  },
  {
   "cell_type": "code",
   "execution_count": null,
   "metadata": {},
   "outputs": [],
   "source": [
    "def getInputForColumns():\n",
    "    \"\"\"Returns a list with column ids as Strings.\n",
    "    \n",
    "    The elements are column ids in A1 format and are set as follows:\n",
    "    [Time-stamp, Acceleration X, Acceleration Y, Acceleration Z]\n",
    "    \"\"\"\n",
    "    \n",
    "    # Get input for the columns\n",
    "    interval = 0\n",
    "    startIndex = 0\n",
    "    column_ids = [\"\", \"\", \"\", \"\"]\n",
    "    buffer = \"\"\n",
    "    isFinal = False\n",
    "    excel_wb_name = \"\"\n",
    "    \n",
    "    while (isFinal == False):\n",
    "        print(\"Enter the row number to start data input (0 for first row I.e. Your file has no headers): \")\n",
    "        startIndex = int(input(\"Start Index: \"))\n",
    "        print(\"Enter the row interval for acceleration (if each row is the reading for acceleration, just enter 1): \")\n",
    "        interval = int(input(\"Row Interval: \"))\n",
    "        print(\"Enter the Column ID in A1 format (e.g. A, B, C) for the following items:\")\n",
    "        buffer = input(\"Time-stamp: \")\n",
    "        column_ids[0] = buffer\n",
    "        buffer = input(\"Acceleration X: \")\n",
    "        column_ids[1] = buffer\n",
    "        buffer = input(\"Acceleration Y: \")\n",
    "        column_ids[2] = buffer\n",
    "        buffer = input(\"Acceleration Z: \")\n",
    "        column_ids[3] = buffer\n",
    "        excel_wb_name = input(\"An excel workbook will be created. Please input your preferred name (CASE-SENSITIVE): \")\n",
    "        buffer = input(\"Confirm entry? [Y]/[N]: \")\n",
    "        if (buffer.lower() == \"y\"):\n",
    "            isFinal = True\n",
    "            print(\"File is running...\")\n",
    "            \n",
    "    \n",
    "    return startIndex, interval, column_ids, excel_wb_name"
   ]
  },
  {
   "cell_type": "markdown",
   "metadata": {},
   "source": [
    "```a1ToIndex```\n",
    "Converts the Supplied Column ID in A1 format to a Normal Index starting from 0\n",
    "    \n",
    "Function parameters:\\\n",
    "(String) a1 -- Column ID in String Format"
   ]
  },
  {
   "cell_type": "code",
   "execution_count": null,
   "metadata": {
    "scrolled": true
   },
   "outputs": [],
   "source": [
    "def a1ToIndex(a1, isZeroIndex):\n",
    "    \"\"\"Converts the Supplied Column ID in A1 format to a Normal Index starting from 0\n",
    "    \n",
    "    Function parameters:\n",
    "    (String) a1 -- Column ID in String Format\n",
    "    (Bool) isZeroIndex -- First column starts from '0' if set to True\n",
    "    \"\"\"\n",
    "    assert type(a1) is str, \"Expected a String\"\n",
    "    assert type(isZeroIndex) is bool, \"Expected a Boolean\"\n",
    "    return column_index_from_string(a1) - int(isZeroIndex)*1"
   ]
  },
  {
   "cell_type": "markdown",
   "metadata": {},
   "source": [
    "## Filters, Creates new csv, and Converts to Pandas Data Frames"
   ]
  },
  {
   "cell_type": "markdown",
   "metadata": {},
   "source": [
    "|**Parameter**|**Description**|**Variable Used**|**Description**|\n",
    "|:-|:-|:-|:-|\n",
    "|```file_name```|the name of the file (in string)|```formatted```|the csv file generated and one where filtering is applied to|\n",
    "|```title```|name of the file|```df```|the DataFrame generated from the formatted csv file|\n",
    "|```output_path```|the path for output| |\n"
   ]
  },
  {
   "cell_type": "code",
   "execution_count": null,
   "metadata": {},
   "outputs": [],
   "source": [
    "def csv2df(file_name, title, output_path):\n",
    "    '''filter the csv file & import to DataFrame'''\n",
    "    formatted_output_path = output_path + \"/\" + title + \"-formatted.csv\"\n",
    "    \n",
    "    # Get the column ids where the required data is located from the user\n",
    "    startIndex, interval, column_ids, excel_wb_name = getInputForColumns()\n",
    "    # Transform the user input in A1 format into index for use later\n",
    "    # [0: Time-stamp, 1: Acceleration X, 2: Acceleration Y, 3: Acceleration Z]\n",
    "    column_indexes = [a1ToIndex(colID, True) for colID in column_ids]\n",
    "    \n",
    "    # Opens the given file\n",
    "    my_file = open(file_name)\n",
    "    \n",
    "    # Creates a clean csv file for output\n",
    "    formatted = open(formatted_output_path,\"w\",newline='')\n",
    "    \n",
    "    # Sets this as csv\n",
    "    reader = csv.reader(my_file)\n",
    "    formatted_csv = csv.writer(formatted)\n",
    "    \n",
    "    # Create a header in formatted.\n",
    "    header = ['TimeStamp','TimeElapsed','Category','Acc-X','Acc-Y','Acc-Z']\n",
    "    formatted_csv.writerow(header)\n",
    "    \n",
    "    # Start filtering\n",
    "    i = 0 #initial value for the index, used for mapping\n",
    "    for item in reader:\n",
    "        if ((i-startIndex) >= 0) & (((i - startIndex) % interval) == 0):\n",
    "            each_line = []\n",
    "            for column_index in column_indexes:\n",
    "                try:\n",
    "                    each_line.append(item[column_index])\n",
    "                except:\n",
    "                    pass # To prevent the code from stopping if some cells are blank\n",
    "            each_line.insert(1,0)\n",
    "            each_line.insert(2,\"Acceleration\")\n",
    "            formatted_csv.writerow(each_line)\n",
    "            i += 1\n",
    "        else:\n",
    "            i += 1\n",
    "            \n",
    "    # Closes the given file\n",
    "    my_file.close()\n",
    "    \n",
    "    # Change to Dataframe in pandas\n",
    "    df = pd.read_csv(formatted_output_path,header = 0)   \n",
    "\n",
    "    return df"
   ]
  },
  {
   "cell_type": "code",
   "execution_count": null,
   "metadata": {},
   "outputs": [],
   "source": [
    "def csv_to_excel(d, output_path, is_ms):\n",
    "    '''\n",
    "    Input: A dictionary of .csv file names, title of file name\n",
    "    Output: Data imported into excel workbook\n",
    "    '''\n",
    "    \n",
    "    # Create new Excel workbook\n",
    "    wb = openpyxl.Workbook()\n",
    "    # Just to remove the spare sheet\n",
    "    wb.remove(wb.active)\n",
    "    # Get the column ids where the required data is located from the user\n",
    "    startIndex, interval, column_ids, excel_wb_name = getInputForColumns()\n",
    "    # Transform the user input in A1 format into index for use later\n",
    "    # [0: Time-stamp, 1: Acceleration X, 2: Acceleration Y, 3: Acceleration Z]\n",
    "    column_indexes = [a1ToIndex(colID, True) for colID in column_ids]\n",
    "\n",
    "    \n",
    "    # For each key in dictionary\n",
    "    for i, key in enumerate(d):\n",
    "        \n",
    "#         Concatenate csv files which start and end at same point together\n",
    "        df_list = []\n",
    "        for file in d[key]:\n",
    "            formatted_output_path = output_path + \"/\" + file + \"-formatted.csv\"\n",
    "\n",
    "            \n",
    "\n",
    "            # Creates a clean csv file for output\n",
    "            with open(formatted_output_path,\"w\",newline='') as f:\n",
    "                with open(f'{file}.csv') as my_file:\n",
    "            \n",
    "                    # Sets this as csv\n",
    "                    reader = csv.reader(my_file)\n",
    "                    formatted_csv = csv.writer(f)\n",
    "\n",
    "                    # Create a header in formatted.\n",
    "                    header = ['TimeStamp','TimeElapsed','Category','Acc-X','Acc-Y','Acc-Z']\n",
    "                    formatted_csv.writerow(header)\n",
    "\n",
    "                    # Start filtering\n",
    "                    i = 0 #initial value for the index, used for mapping\n",
    "                    for item in reader:                        \n",
    "                        if ((i-startIndex) >= 0) & (((i - startIndex) % interval) == 0):\n",
    "                            each_line = []\n",
    "                            for column_index in column_indexes:\n",
    "                                try:                                    \n",
    "                                    each_line.append(item[column_index])\n",
    "                                except:\n",
    "                                    pass # To prevent the code from stopping if some cells are blank\n",
    "                            each_line.insert(1,0)\n",
    "                            each_line.insert(2,'Acceleration')\n",
    "                            formatted_csv.writerow(each_line)\n",
    "                            i += 1\n",
    "                        else:\n",
    "                            i += 1\n",
    "                formatted_df = pd.read_csv(formatted_output_path,header = 0)\n",
    "                timeElapsed(formatted_df, is_ms)\n",
    "                #     Convert the respective files into a list of df\n",
    "                df_list.append(formatted_df)\n",
    "\n",
    "\n",
    "    #     Concatenate the dfs into 1\n",
    "        concat_df = pd.concat(df_list, axis = 1)\n",
    "\n",
    "    #     Create a new column: Average of all acceleration data\n",
    "        try:\n",
    "            concat_df['Average Y'] = concat_df['Acc-Y'].mean(axis=1)\n",
    "        except:\n",
    "    #         If only have 1 set of readings, still need to create a new column\n",
    "            concat_df['Average Y'] = concat_df['Acc-Y']\n",
    "      \n",
    "    #     Store key as title of file\n",
    "        title = key\n",
    "\n",
    "    #     Create ws with the title == key of dictionary\n",
    "        ws = wb.create_sheet(index=i, title=title)\n",
    "\n",
    "    #     Import the df into the excel sheet\n",
    "        for r in dataframe_to_rows(concat_df, index=False, header=True):\n",
    "            ws.append(r)\n",
    "\n",
    "#     try:\n",
    "    excel_wb_name = f\"{output_path}/{excel_wb_name}\"\n",
    "    wb.save(f'{excel_wb_name}.xlsx')\n",
    "    print(f\"Excel workbook created at {output_path}\")\n",
    "    return excel_wb_name\n",
    "#     except:\n",
    "#         print('''\n",
    "#         Excel file failed to create. \n",
    "#         Please check that the name given does not contain the following special characters:\n",
    "#         / \\ : * ? \" < > | ''')"
   ]
  },
  {
   "cell_type": "markdown",
   "metadata": {},
   "source": [
    "# 3) DataFrame Manipulation"
   ]
  },
  {
   "cell_type": "markdown",
   "metadata": {},
   "source": [
    "## Function to Generate Time Elapsed"
   ]
  },
  {
   "cell_type": "code",
   "execution_count": null,
   "metadata": {},
   "outputs": [],
   "source": [
    "def timeElapsed(df, is_ms): \n",
    "    \n",
    "    # Calculate and write a time_elapsed column\n",
    "    df['TimeElapsed'] = df['TimeStamp'] - df['TimeStamp'].iloc[0]\n",
    "    \n",
    "    if is_ms == 'y':\n",
    "        df['TimeElapsed'] = df['TimeElapsed'] / 1000"
   ]
  },
  {
   "cell_type": "markdown",
   "metadata": {},
   "source": [
    "## Function to Generate Time Interval"
   ]
  },
  {
   "cell_type": "code",
   "execution_count": null,
   "metadata": {},
   "outputs": [],
   "source": [
    "def timeInterval(df):\n",
    "    '''calculate time interval from the TimeElpased column'''\n",
    "    \n",
    "      # This is to retrieve the \"TimeElapsed column with the MOST number of rows!\"\n",
    "# Remove all rows where all values are blank then Retrieve the last value    \n",
    "    last_value_of_t = df[\"TimeElapsed\"].dropna(how='all').iloc[-1]\n",
    "    t = df[\"TimeElapsed\"].dropna(how='all').reset_index(drop=True) # Shift the index back to 0!\n",
    "\n",
    "# If there's only 1 \"Timestamp\" in the excel sheet, then our x-axis will just equal to it. 'pass' because values assigned to t already is correct\n",
    "    if type(last_value_of_t) == float or type(last_value_of_t) == int:\n",
    "        pass\n",
    "    else:\n",
    "# Retrieve index of time that is not 'NaN'. This is equivalent to retrieving maximum time (I.e. Most number of rows)\n",
    "        time_formatted = [i for i, el in enumerate(list(t.iloc[-1])) if not math.isnan(el)]\n",
    "        idx = time_formatted[0] # This works because there should only be 1 value that is 'NaN' \n",
    "# If there is 2 or more, this means that all the time end at the same row / time which is highly unlikely. Even if it does happen, I will still be retrieving the idx of the max t\n",
    "\n",
    "\n",
    "# t = Col with most number of rows\n",
    "        t = t.iloc[:, idx]\n",
    "    #index of TimeInterval: 6\n",
    "    \n",
    "    # Retrieve all rows excluding last & reset the index (Shift it back down to 0)\n",
    "    next_value = t.iloc[1:].reset_index(drop=True)\n",
    "    # Find difference\n",
    "    timeInterval = next_value - t\n",
    "    # Add '0' value to first row & Format the index again\n",
    "    timeInterval = pd.concat([pd.Series([0]), timeInterval]).reset_index(drop = True)\n",
    "    # Apparently, df[\"TimeInterval\"] values start from 1, hence the need for the code below\n",
    "    timeInterval.index = range(1,len(timeInterval)+1)\n",
    "    \n",
    "    df[\"TimeInterval\"] = timeInterval\n",
    "\n",
    "    "
   ]
  },
  {
   "cell_type": "markdown",
   "metadata": {},
   "source": [
    "## Function to generate Acc-Y-Adjusted"
   ]
  },
  {
   "cell_type": "markdown",
   "metadata": {},
   "source": [
    "Variable: <br>\n",
    "shift_value: the value to shift all acceleration values \n",
    "<p> in this application, the shift value from the experiment results, is approximately to be (initial accelration)/2</p>"
   ]
  },
  {
   "cell_type": "code",
   "execution_count": null,
   "metadata": {},
   "outputs": [],
   "source": [
    "def accAdjust(df, smoothen_curve, format_acc):\n",
    "    '''Generate the Acc-Y-Adjusted and take the shift value into account'''\n",
    "    \n",
    "    #index of Acc-Y-Adjusted: 7\n",
    "\n",
    "    if format_acc == 'y':\n",
    "        df[\"Average Y\"] = df[\"Average Y\"] * -9.81\n",
    "    acc_Y = df[\"Average Y\"]\n",
    "#     for i in range(len(df)):\n",
    "#         acc_Y.append(df.iloc[i,4]*9.8)\n",
    "        \n",
    "    # Filter to remove noise\n",
    "    n = int(smoothen_curve)  # the larger n is, the smoother curve will be\n",
    "    b = [1.0 / n] * n # b, numerator coefficient vector in a 1-D sequence\n",
    "    a = 1 # a, denominator coefficient vector in a 1-D sequence\n",
    "    acc_Y_filtered = lfilter(b,a,acc_Y)\n",
    "        \n",
    "    df[\"Acc-Y-Adjusted\"] = acc_Y_filtered\n",
    "    \n",
    "    #shift value\n",
    "    shift_value = df[\"Acc-Y-Adjusted\"] / 2\n",
    "    df[\"Acc-Y-Adjusted\"] = df[\"Acc-Y-Adjusted\"] - shift_value\n",
    "#     for i in range(len(df)):\n",
    "#         df.iloc[i,7] = df.iloc[i,7] - shift_value\n",
    "    \n"
   ]
  },
  {
   "cell_type": "markdown",
   "metadata": {},
   "source": [
    "## Function to generate V-btw2"
   ]
  },
  {
   "cell_type": "code",
   "execution_count": null,
   "metadata": {},
   "outputs": [],
   "source": [
    "def dv(df):\n",
    "    '''Generate the d_v using the definition of integration using the Acc-Y-Adjusted values'''\n",
    "    #index of V-btw2: 8\n",
    "    #index7: Acc-Y-Adjusted\n",
    "    #index6: TimeInterval\n",
    "    d_v = 0.5 * (df[\"Acc-Y-Adjusted\"].iloc[1:].reset_index(drop=True) + df[\"Acc-Y-Adjusted\"]) * df[\"TimeInterval\"]\n",
    "    \n",
    "    df[\"V-btw2\"] = d_v"
   ]
  },
  {
   "cell_type": "markdown",
   "metadata": {},
   "source": [
    "## Function to generate V(t)"
   ]
  },
  {
   "cell_type": "code",
   "execution_count": null,
   "metadata": {},
   "outputs": [],
   "source": [
    "def vt(df):\n",
    "    '''Generate the v(t) column to record the instantaneous velocity of all data points'''\n",
    "    \n",
    "    #index of V(t): 9\n",
    "    \n",
    "    false_list = [0]*len(df)\n",
    "    df[\"V(t)\"] = false_list\n",
    "    ins_v = [0]\n",
    "    for i in range(1,len(df)):\n",
    "    # index8: V-btw2\n",
    "        ins_v.append(sum(df[\"V-btw2\"].iloc[:i-1]))\n",
    "    df[\"V(t)\"] = ins_v"
   ]
  },
  {
   "cell_type": "markdown",
   "metadata": {},
   "source": [
    "## Function to generate S-btw2"
   ]
  },
  {
   "cell_type": "code",
   "execution_count": null,
   "metadata": {},
   "outputs": [],
   "source": [
    "def ds(df):\n",
    "    '''Generate the d_s using the definition of integration using the V(t) values'''\n",
    "    \n",
    "    d_s = 0.5 * (df[\"V(t)\"].iloc[1:].reset_index(drop=True) + df[\"V(t)\"]) * df[\"TimeInterval\"]\n",
    "    \n",
    "    #index of S-btw2: 10\n",
    "    df[\"S-btw2\"] = d_s"
   ]
  },
  {
   "cell_type": "markdown",
   "metadata": {},
   "source": [
    "## Function to generate S(t)"
   ]
  },
  {
   "cell_type": "code",
   "execution_count": null,
   "metadata": {},
   "outputs": [],
   "source": [
    "def st(df):\n",
    "    '''Generate the s(t) column to record the instantaneous displacement of all data points'''\n",
    "    \n",
    "    #index of V(t): 11\n",
    "    false_list = [0]*len(df)\n",
    "    df[\"S(t)\"] = false_list  \n",
    "    \n",
    "    ins_s = [0]\n",
    "    for i in range(1,len(df)):\n",
    "    # index8: V-btw2\n",
    "        ins_s.append(sum(df[\"S-btw2\"].iloc[:i-1]))\n",
    "\n",
    "    df[\"S(t)\"] = ins_s"
   ]
  },
  {
   "cell_type": "markdown",
   "metadata": {},
   "source": [
    "## Function to integrate all the functions in this section"
   ]
  },
  {
   "cell_type": "code",
   "execution_count": null,
   "metadata": {},
   "outputs": [],
   "source": [
    "def format_headers(df):\n",
    "    \n",
    "# Format headers as long as the first row is not a numerical value\n",
    "# Note: Headers are not considered as the first row\n",
    "# Note: '.item()' is to convert numpy types to native Python types\n",
    "    try:\n",
    "        if type(df.iloc[0, 0].item()) == float:\n",
    "            pass\n",
    "    except:\n",
    "        header = df.iloc[0]\n",
    "        df = df[1:]\n",
    "        df.columns = header\n",
    "    return df"
   ]
  },
  {
   "cell_type": "code",
   "execution_count": null,
   "metadata": {},
   "outputs": [],
   "source": [
    "def dfFormat(df, smoothen_curve, format_acc):\n",
    "    df = format_headers(df)\n",
    "    timeInterval(df)\n",
    "    accAdjust(df, smoothen_curve, format_acc)\n",
    "    dv(df)\n",
    "    vt(df)\n",
    "    ds(df)\n",
    "    st(df)\n",
    "#     print(df)\n",
    "    return df"
   ]
  },
  {
   "cell_type": "markdown",
   "metadata": {},
   "source": [
    "# 4) Physical Property Determination (Data Insights)"
   ]
  },
  {
   "cell_type": "markdown",
   "metadata": {},
   "source": [
    "## Total Distance Travelled"
   ]
  },
  {
   "cell_type": "code",
   "execution_count": null,
   "metadata": {},
   "outputs": [],
   "source": [
    "def distance(df):\n",
    "    '''Get the total distance travelled'''\n",
    "    \n",
    "    Total_Distance_Travelled = max(df[\"S(t)\"])\n",
    "    \n",
    "    return Total_Distance_Travelled"
   ]
  },
  {
   "cell_type": "markdown",
   "metadata": {},
   "source": [
    "## Total Time Taken"
   ]
  },
  {
   "cell_type": "code",
   "execution_count": null,
   "metadata": {},
   "outputs": [],
   "source": [
    "def totalTime(df):\n",
    "    '''Get the total time taken'''\n",
    "    \n",
    "    Total_Time_Taken = df.iloc[len(df)-1,1]\n",
    "    \n",
    "    return Total_Time_Taken"
   ]
  },
  {
   "cell_type": "markdown",
   "metadata": {},
   "source": [
    "## Max Velocity"
   ]
  },
  {
   "cell_type": "code",
   "execution_count": null,
   "metadata": {},
   "outputs": [],
   "source": [
    "def maxVelocity(df):\n",
    "    '''Get the max velocity'''\n",
    "    \n",
    "    Max_Velocity = max(df[\"V(t)\"])\n",
    "    \n",
    "    return Max_Velocity"
   ]
  },
  {
   "cell_type": "markdown",
   "metadata": {},
   "source": [
    "## Acceleration Cut-off Time & Average Acceleration"
   ]
  },
  {
   "cell_type": "markdown",
   "metadata": {},
   "source": [
    "Variables: <br>\n",
    "negative_acc_list: a list of the index of which the acceleration value is nagetive"
   ]
  },
  {
   "cell_type": "code",
   "execution_count": null,
   "metadata": {},
   "outputs": [],
   "source": [
    "def acc(df):\n",
    "    '''Get the cut-off time for acceleration & Average Acceleration'''\n",
    "    negative_acc_list = df[df[\"Acc-Y-Adjusted\"] < 0].index.tolist()\n",
    "    # To avoid early cut-off\n",
    "    # set the threshhold to be 1/4 of total journey\n",
    "    while negative_acc_list[0] < 0.25*len(df):\n",
    "        negative_acc_list = negative_acc_list[1:]\n",
    "        \n",
    "    CutOff_Time = df.iloc[negative_acc_list[0],1]\n",
    "    \n",
    "    cutoff_idx = negative_acc_list[0]\n",
    "    acc_list = []\n",
    "    for i in range(cutoff_idx):\n",
    "        acc_list.append(df[\"Acc-Y-Adjusted\"].iloc[i])\n",
    "    Average_Acceleration = sum(acc_list)/len(acc_list)\n",
    "    \n",
    "    return CutOff_Time, Average_Acceleration"
   ]
  },
  {
   "cell_type": "markdown",
   "metadata": {},
   "source": [
    "## Max Acceleration"
   ]
  },
  {
   "cell_type": "code",
   "execution_count": null,
   "metadata": {},
   "outputs": [],
   "source": [
    "def maxAcc(df):\n",
    "    '''Get the maxium Acceleration'''\n",
    "    \n",
    "    Max_Acceleration = max(df[\"Acc-Y-Adjusted\"])\n",
    "\n",
    "    return Max_Acceleration"
   ]
  },
  {
   "cell_type": "markdown",
   "metadata": {},
   "source": [
    "## Function to integrate all the functions in this section"
   ]
  },
  {
   "cell_type": "code",
   "execution_count": null,
   "metadata": {},
   "outputs": [],
   "source": [
    "def data(df):\n",
    "    Total_Distance_Travelled = distance(df)\n",
    "    Total_Time_Taken = totalTime(df)\n",
    "    Max_Velocity = maxVelocity(df)\n",
    "    CutOff_Time, Average_Acceleration = acc(df)\n",
    "    Max_Acceleration = maxAcc(df)\n",
    "    \n",
    "    result_data = f'''\n",
    "    # Total distance travelled: {Total_Distance_Travelled} m\n",
    "    # Total time taken: {Total_Time_Taken} s\n",
    "    # Max velocity: {Max_Velocity} m/s\n",
    "    # Cut-off time for acceleration: {CutOff_Time} s\n",
    "    # Average acceleration: {Average_Acceleration} m/s^2\n",
    "    # Max acceleration: {Max_Acceleration} m/s^2\n",
    "    '''\n",
    "    \n",
    "    return result_data"
   ]
  },
  {
   "cell_type": "markdown",
   "metadata": {},
   "source": [
    "# 5) Generating and Saving Graphs"
   ]
  },
  {
   "cell_type": "markdown",
   "metadata": {},
   "source": [
    "## Graph a-t"
   ]
  },
  {
   "cell_type": "code",
   "execution_count": null,
   "metadata": {},
   "outputs": [],
   "source": [
    "def plotAcc(df,title,CutOff_Time, output_path):\n",
    "    fig, axes = plt.subplots(nrows=1, ncols=1, figsize=(12,6))\n",
    "    axes.set_xlabel('time (s)')\n",
    "    axes.set_ylabel('Acceleration_y (m/s^2)', color='tab:blue')\n",
    "    \n",
    "    t=df[\"TimeElapsed\"]\n",
    "    acc_y=df[\"Acc-Y-Adjusted\"]\n",
    "    axes.plot(t,acc_y,color=\"red\", lw=2, ls='-')\n",
    "    axes.axvline(CutOff_Time, 0, 1, label='Cut-off for acceleration')\n",
    "    axes.axhline(0, color='black')\n",
    "    axes.legend()\n",
    "    axes.title.set_text(title)\n",
    "    \n",
    "    name = title + '-'+ 'Acceleration'\n",
    "    plt.savefig(f'{output_path}/{name}.png')"
   ]
  },
  {
   "cell_type": "markdown",
   "metadata": {},
   "source": [
    "## Graph v-t"
   ]
  },
  {
   "cell_type": "code",
   "execution_count": null,
   "metadata": {},
   "outputs": [],
   "source": [
    "def plotVelocity(df,title,Max_Velocity, output_path):\n",
    "    fig, axes = plt.subplots(nrows=1, ncols=1, figsize=(12,6))\n",
    "    axes.set_xlabel('time (s)')\n",
    "    axes.set_ylabel('Velocity (m/s)', color='tab:blue')\n",
    "    \n",
    "    t=df[\"TimeElapsed\"]\n",
    "    v=df[\"V(t)\"]\n",
    "    axes.plot(t,v,color=\"red\", lw=2, ls='-')\n",
    "    axes.axhline(Max_Velocity, 0, 1, label='Max Velocity')\n",
    "    axes.legend()\n",
    "    axes.title.set_text(title)\n",
    "    \n",
    "    name = title + '-'+ 'Velocity'\n",
    "    plt.savefig(f'{output_path}/{name}.png')"
   ]
  },
  {
   "cell_type": "markdown",
   "metadata": {},
   "source": [
    "## Graph s-t"
   ]
  },
  {
   "cell_type": "code",
   "execution_count": null,
   "metadata": {},
   "outputs": [],
   "source": [
    "def plotDisplacement(df,title,Total_Distance_Travelled, output_path):\n",
    "    fig, axes = plt.subplots(nrows=1, ncols=1, figsize=(12,6))\n",
    "    axes.set_xlabel('time (s)')\n",
    "    axes.set_ylabel('Displacement (m)', color='tab:blue')\n",
    "    \n",
    "    t=df[\"TimeElapsed\"]\n",
    "    s=df[\"S(t)\"]\n",
    "    axes.plot(t,s,color=\"red\", lw=2, ls='-')\n",
    "    axes.axhline(Total_Distance_Travelled, 0, 1, label='Total Distance Travelled')\n",
    "    axes.legend()\n",
    "    axes.title.set_text(title)\n",
    "    \n",
    "    name = title + '-'+ 'Displacement'\n",
    "    plt.savefig(f'{output_path}/{name}.png')"
   ]
  },
  {
   "cell_type": "markdown",
   "metadata": {},
   "source": [
    "# 6) Calculating and Generating Output"
   ]
  },
  {
   "cell_type": "code",
   "execution_count": null,
   "metadata": {},
   "outputs": [],
   "source": [
    "def mkdir_p(mypath):\n",
    "    '''Creates a directory. equivalent to using mkdir -p on the command line'''\n",
    "    if not os.path.exists(mypath):\n",
    "        os.makedirs(mypath)"
   ]
  },
  {
   "cell_type": "code",
   "execution_count": null,
   "metadata": {},
   "outputs": [],
   "source": [
    "def hasNumbers(inputString):\n",
    "    return any(char.isdigit() for char in inputString)\n",
    "\n",
    "def sorted_dict(all_files):\n",
    "    '''\n",
    "    Input: Requires a list of .csv files\n",
    "    Output:\n",
    "    - A dictionary with values sorted according to the train trip\n",
    "    - file_names excluding '.csv'\n",
    "    \n",
    "    '''\n",
    "\n",
    "    d = {}\n",
    "\n",
    "    # Retrieve file_names\n",
    "    file_names = ''.join(all_files).split('.csv')[:-1]\n",
    "\n",
    "\n",
    "    for name in file_names:\n",
    "\n",
    "    # If name of file as a digit, find index of digit\n",
    "        if hasNumbers(name):\n",
    "\n",
    "    # Find the index of the digit\n",
    "            idx = [char.isdigit() for char in name].index(True)\n",
    "\n",
    "    # Split by the index and store the front end as the key\n",
    "    # Note: '-1' is to exclude the whitespace as well\n",
    "            key = name[:idx-1]\n",
    "            if key in d:\n",
    "                d[key].append(name)\n",
    "            else:\n",
    "                d[key] = [name]\n",
    "        else:\n",
    "            if name in d:\n",
    "                d[name].append(name)\n",
    "            else:\n",
    "                d[name] = [name]\n",
    "\n",
    "    \n",
    "    return d, file_names\n"
   ]
  },
  {
   "cell_type": "markdown",
   "metadata": {},
   "source": [
    "## Run it all (Main function)"
   ]
  },
  {
   "cell_type": "code",
   "execution_count": null,
   "metadata": {},
   "outputs": [],
   "source": [
    "def main():\n",
    "    # User Input\n",
    "    output_dir = \"/\" + input(\"Please input the folder name for output: \") # i.e. \"Output-1\"\n",
    "#     file_name = input(\"Please input the relative/full path to csv file: \") # i.e. \"example_data/UC_EXPO_first.csv\"\n",
    "    \n",
    "\n",
    "\n",
    "    # Setup Output Path\n",
    "    my_path = os.path.realpath(\"\")\n",
    "    output_path = my_path + output_dir\n",
    "    mkdir_p(output_path)\n",
    "    \n",
    "    # Create new Excel workbook\n",
    "    wb = openpyxl.Workbook()\n",
    "    # Just to remove the spare sheet\n",
    "    wb.remove(wb.active)\n",
    "\n",
    "    # Retrieve directory containing all .csv files\n",
    "    user_dir = input(\"Please input the path to the directory containing all the .csv files: \")\n",
    "    path = 'c:\\\\'\n",
    "    extension = 'csv'\n",
    "    os.chdir(user_dir)\n",
    "    all_files = glob.glob('*.{}'.format(extension))\n",
    "    d, file_names = sorted_dict(all_files)\n",
    "      \n",
    "    print(\"Results will be available at: {}\".format(output_path))\n",
    "\n",
    "    while True:\n",
    "        try:\n",
    "            smoothen_curve = input(\"Please input a number from 1-15 (A larger number results in a smoother curve but some readings may be missing): \")\n",
    "            if int(smoothen_curve) in range(1,16):\n",
    "                pass\n",
    "            else:\n",
    "                continue\n",
    "            format_acc = input(\"Is your acceleration measured in g? (I.e. '1' represents 9.81ms^-2) [Y]/[N]: \")\n",
    "\n",
    "            if format_acc.lower() == 'y' or format_acc.lower() == 'n':\n",
    "                        pass\n",
    "            else:\n",
    "                continue\n",
    "            is_ms = input(\"Is your time measured in ms? (I.e. '1000' represents 1s) [Y]/[N]: \")\n",
    "            if is_ms.lower() == 'y' or is_ms.lower() == 'n':\n",
    "                        break\n",
    "        except:\n",
    "            print(\"Invalid Input. Please try again.\")\n",
    "            continue\n",
    "\n",
    "#     Reads sorted dict of csv files. Converts them to data frame and concatenate similar ones together. Outputs excel wb\n",
    "    excel_wb_name = csv_to_excel(d, output_path, is_ms)\n",
    "    \n",
    "    # Change back to original directory\n",
    "    os.chdir(my_path)\n",
    "    \n",
    "\n",
    "\n",
    "    \n",
    "    acceleration_data = pd.read_excel(f'{excel_wb_name}.xlsx', sheet_name=None, header=None)\n",
    "    \n",
    "    for i, title in enumerate(acceleration_data):\n",
    "        print(f\"Status: Running {i+1} / {len(acceleration_data)}\")\n",
    "        df = acceleration_data[title]\n",
    "        # Calculations to get the adjusted acceleration, velocity, and displacement\n",
    "        df = dfFormat(df, smoothen_curve, format_acc) \n",
    "\n",
    "        # Save the DataFrame as the csv file\n",
    "        formatted_csv_path = output_path + \"/\" + title + \"-formatted.csv\"\n",
    "        df.to_csv(formatted_csv_path)\n",
    "\n",
    "        # Calculate Data Insights\n",
    "        result_data = data(df)\n",
    "\n",
    "\n",
    "        # Save Data Insights to File\n",
    "        formatted_output_path = output_path + \"/\" + title + \"-insights.txt\"\n",
    "        insights_file = open(formatted_output_path,\"w\",newline='')\n",
    "        insights_file.write(result_data)\n",
    "        insights_file.close()\n",
    "\n",
    "        # The next three lines are for use in plotting as parameters\n",
    "        Total_Distance_Travelled = distance(df)\n",
    "        Max_Velocity = maxVelocity(df)\n",
    "        CutOff_Time, Average_Acceleration = acc(df)\n",
    "\n",
    "        # Plot & save data to specified output location\n",
    "        plotAcc(df,title, CutOff_Time, output_path)\n",
    "        plotVelocity(df, title, Max_Velocity, output_path)\n",
    "        plotDisplacement(df, title, Total_Distance_Travelled, output_path)"
   ]
  },
  {
   "cell_type": "code",
   "execution_count": null,
   "metadata": {
    "scrolled": false
   },
   "outputs": [],
   "source": [
    "main()"
   ]
  }
 ],
 "metadata": {
  "kernelspec": {
   "display_name": "Python 3",
   "language": "python",
   "name": "python3"
  },
  "language_info": {
   "codemirror_mode": {
    "name": "ipython",
    "version": 3
   },
   "file_extension": ".py",
   "mimetype": "text/x-python",
   "name": "python",
   "nbconvert_exporter": "python",
   "pygments_lexer": "ipython3",
   "version": "3.7.4"
  }
 },
 "nbformat": 4,
 "nbformat_minor": 2
}
