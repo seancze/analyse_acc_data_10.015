{
 "cells": [
  {
   "cell_type": "markdown",
   "metadata": {},
   "source": [
    "# Acceleration Data Processor Type B\n",
    "\n",
    "## How to use\n",
    "1. Make sure all the required packages are installed\n",
    "    * Run the following command to install if you haven't: ```pip install pandas matplotlib xlrd scipy notebook```\n",
    "2. If you are seeing this, you are already running jupyter notebook\n",
    "3. To run this program, navigate to:\n",
    "    1. Menu Bar >\n",
    "    2. Kernel >\n",
    "    3. Restart & Run All\n",
    "4. Follow the prompts at the bottom of this notebook"
   ]
  },
  {
   "cell_type": "markdown",
   "metadata": {},
   "source": [
    "# 1) Import modules"
   ]
  },
  {
   "cell_type": "code",
   "execution_count": 1,
   "metadata": {
    "scrolled": true
   },
   "outputs": [],
   "source": [
    "import pandas as pd\n",
    "import csv\n",
    "import os.path\n",
    "import matplotlib.pyplot as plt\n",
    "from scipy.signal import lfilter"
   ]
  },
  {
   "cell_type": "markdown",
   "metadata": {},
   "source": [
    "# 2) Formatting the specified raw data provided in .csv format "
   ]
  },
  {
   "cell_type": "markdown",
   "metadata": {},
   "source": [
    "## Auxiliary Functions"
   ]
  },
  {
   "cell_type": "markdown",
   "metadata": {},
   "source": [
    "```getInputForColumns()```\n",
    "Returns a list with column ids as Strings.\n",
    "    \n",
    "The elements are column ids in A1 format and are set as follows:\\\n",
    "[Time-stamp, Acceleration X, Acceleration Y, Accelerationz]\n",
    "\n",
    "Function parameters:\\\n",
    "None"
   ]
  },
  {
   "cell_type": "code",
   "execution_count": 2,
   "metadata": {},
   "outputs": [],
   "source": [
    "def getInputForColumns():\n",
    "    \"\"\"Returns a list with column ids as Strings.\n",
    "    \n",
    "    The elements are column ids in A1 format and are set as follows:\n",
    "    [Time-stamp, Acceleration X, Acceleration Y, Acceleration Z]\n",
    "    \"\"\"\n",
    "    \n",
    "    # Get input for the columns\n",
    "    interval = 0\n",
    "    startIndex = 0\n",
    "    column_ids = [\"\", \"\", \"\", \"\"]\n",
    "    buffer = \"\"\n",
    "    isFinal = False\n",
    "    \n",
    "    while (isFinal == False):\n",
    "        print(\"Enter the row number to start data input (0 for the first row): \")\n",
    "        startIndex = int(input(\"Start Index: \"))\n",
    "        print(\"Enter the row interval for acceleration (if each row is the reading for acceleration, just enter 1): \")\n",
    "        interval = int(input(\"Row Interval: \"))\n",
    "        print(\"Enter the Column ID in A1 format (e.g. A, B, C) for the following items:\")\n",
    "        buffer = input(\"Time-stamp: \")\n",
    "        column_ids[0] = buffer\n",
    "        buffer = input(\"Acceleration X: \")\n",
    "        column_ids[1] = buffer\n",
    "        buffer = input(\"Acceleration Y: \")\n",
    "        column_ids[2] = buffer\n",
    "        buffer = input(\"Acceleration Z: \")\n",
    "        column_ids[3] = buffer\n",
    "        buffer = input(\"Confirm entry? [Y]/[N]: \")\n",
    "        if (buffer.lower() == \"y\"):\n",
    "            isFinal = True\n",
    "    \n",
    "    return startIndex, interval, column_ids"
   ]
  },
  {
   "cell_type": "markdown",
   "metadata": {},
   "source": [
    "```a1ToIndex```\n",
    "Converts the Supplied Column ID in A1 format to a Normal Index starting from 0\n",
    "    \n",
    "Function parameters:\\\n",
    "(String) a1 -- Column ID in String Format"
   ]
  },
  {
   "cell_type": "code",
   "execution_count": 3,
   "metadata": {
    "scrolled": true
   },
   "outputs": [],
   "source": [
    "def a1ToIndex(a1, isZeroIndex):\n",
    "    \"\"\"Converts the Supplied Column ID in A1 format to a Normal Index starting from 0\n",
    "    \n",
    "    Function parameters:\n",
    "    (String) a1 -- Column ID in String Format\n",
    "    \"\"\"\n",
    "    assert type(a1) is str, \"Expected a String\"\n",
    "    assert type(isZeroIndex) is bool, \"Expected a Boolean\"\n",
    "    from openpyxl.utils import column_index_from_string\n",
    "    return column_index_from_string(a1) - int(isZeroIndex)*1"
   ]
  },
  {
   "cell_type": "markdown",
   "metadata": {},
   "source": [
    "## Filters, Creates new csv, and Converts to Pandas Data Frames"
   ]
  },
  {
   "cell_type": "markdown",
   "metadata": {},
   "source": [
    "|**Parameter**|**Description**|**Variable Used**|**Description**|\n",
    "|:-|:-|:-|:-|\n",
    "|```file_name```|the name of the file (in string)|```formatted```|the csv file generated and one where filtering is applied to|\n",
    "|```title```|name of the file|```df```|the DataFrame generated from the formatted csv file|\n",
    "|```output_path```|the path for output| |\n"
   ]
  },
  {
   "cell_type": "code",
   "execution_count": 4,
   "metadata": {},
   "outputs": [],
   "source": [
    "def csv2df(file_name, title, output_path):\n",
    "    '''filter the csv file & import to DataFrame'''\n",
    "    formatted_output_path = output_path + \"/\" + title + \"-formatted.csv\"\n",
    "    \n",
    "    # Get the column ids where the required data is located from the user\n",
    "    startIndex, interval, column_ids = getInputForColumns()\n",
    "    # Transform the user input in A1 format into index for use later\n",
    "    # [0: Time-stamp, 1: Acceleration X, 2: Acceleration Y, 3: Acceleration Z]\n",
    "    column_indexes = [a1ToIndex(colID, True) for colID in column_ids]\n",
    "    \n",
    "    # Opens the given file\n",
    "    my_file = open(file_name)\n",
    "    \n",
    "    # Creates a clean csv file for output\n",
    "    formatted = open(formatted_output_path,\"w\",newline='')\n",
    "    \n",
    "    # Sets this as csv\n",
    "    reader = csv.reader(my_file)\n",
    "    formatted_csv = csv.writer(formatted)\n",
    "    \n",
    "    # Create a header in formatted.\n",
    "    header = ['TimeStamp','TimeElapsed','Category','Acc-X','Acc-Y','Acc-Z']\n",
    "    formatted_csv.writerow(header)\n",
    "    \n",
    "    # Start filtering\n",
    "    i = 0 #initial value for the index, used for mapping\n",
    "    for item in reader:\n",
    "        if ((i-startIndex) >= 0) & (((i - startIndex) % interval) == 0):\n",
    "            each_line = []\n",
    "            for column_index in column_indexes:\n",
    "                each_line.append(item[column_index])\n",
    "                # If the line above doesn't work, it could mean that the .csv file is using delimiters other than a \"comma\"\n",
    "            each_line.insert(1,0)\n",
    "            each_line.insert(2,\"Acceleration\")\n",
    "            formatted_csv.writerow(each_line)\n",
    "            i += 1\n",
    "        else:\n",
    "            i += 1\n",
    "            \n",
    "    # Closes the given file\n",
    "    my_file.close()\n",
    "    \n",
    "    # Change to Dataframe in pandas\n",
    "    df = pd.read_csv(formatted_output_path,header = 0)   \n",
    "\n",
    "    return df"
   ]
  },
  {
   "cell_type": "markdown",
   "metadata": {},
   "source": [
    "# 3) DataFrame Manipulation"
   ]
  },
  {
   "cell_type": "markdown",
   "metadata": {},
   "source": [
    "## Function to remove data for when train is stationary"
   ]
  },
  {
   "cell_type": "code",
   "execution_count": 5,
   "metadata": {},
   "outputs": [],
   "source": [
    "def truncateStationaryValues(df):\n",
    "    # Currently using a rolling average n of 5. Hence the use of \"3\" as the start index in range.\n",
    "    # You can change the n to any odd number. If you choose \"3\", then the start index will be 1 and the end index will be 1.\n",
    "    # Might consider doing this automatically later\n",
    "    \n",
    "    threshold = 0.02 # Change threshold here. Typically 0.02\n",
    "    \n",
    "    from copy import deepcopy\n",
    "    \n",
    "    acc_data = deepcopy(df.iloc[0:len(df),4].tolist())\n",
    "    for i, e in enumerate(acc_data):\n",
    "        acc_data[i] = -e*9.81 # This does not respect the option for \n",
    "    \n",
    "    j = 3\n",
    "    rolling_avg_prev = (acc_data[j-2] + acc_data[j-1] + acc_data[j] + acc_data[j+1] + acc_data[j+2])/5\n",
    "    rolling_avg_cur = 0\n",
    "    truncate_index = 0\n",
    "    \n",
    "    for i in range(3, len(df) - 3):\n",
    "        rolling_avg_cur = (acc_data[i-2] + acc_data[i-1] + acc_data[i] + acc_data[i+1] + acc_data[i+2])/5\n",
    "        delta = rolling_avg_cur - rolling_avg_prev\n",
    "        if (delta > threshold):\n",
    "            # print(i, delta, acc_data[i]) # For debugging\n",
    "            truncate_index = i\n",
    "            break\n",
    "    \n",
    "    rowsToTruncate = [idx for idx in range(0, truncate_index)]\n",
    "    df = df.drop(rowsToTruncate)\n",
    "    return df"
   ]
  },
  {
   "cell_type": "markdown",
   "metadata": {},
   "source": [
    "## Function to Generate Time Elapsed"
   ]
  },
  {
   "cell_type": "code",
   "execution_count": 6,
   "metadata": {},
   "outputs": [],
   "source": [
    "def timeElapsed(df, TimestampInMs): \n",
    "    # Calculate and write a time_elapsed column\n",
    "    \n",
    "    startTime = df.iloc[0,0]\n",
    "    if (TimestampInMs):        \n",
    "        for i in range(len(df)):\n",
    "            df.iloc[i,1]=(df.iloc[i,0]-startTime)/(1000)\n",
    "    else:\n",
    "        for i in range(len(df)):\n",
    "            df.iloc[i,1]=(df.iloc[i,0]-startTime)\n"
   ]
  },
  {
   "cell_type": "markdown",
   "metadata": {},
   "source": [
    "## Function to Generate Time Interval"
   ]
  },
  {
   "cell_type": "code",
   "execution_count": 7,
   "metadata": {},
   "outputs": [],
   "source": [
    "def timeInterval(df):\n",
    "    '''calculate time interval from the TimeElpased colomn'''\n",
    "    \n",
    "    #index of TimeInterval: 6\n",
    "    timeInterval = [0]\n",
    "    for i in range (1,len(df)):\n",
    "        timeInterval.append(df.iloc[i,1]-df.iloc[i-1,1])\n",
    "        \n",
    "    df[\"TimeInterval\"]=timeInterval"
   ]
  },
  {
   "cell_type": "markdown",
   "metadata": {},
   "source": [
    "## Function to generate Acc-Y-Adjusted"
   ]
  },
  {
   "cell_type": "markdown",
   "metadata": {},
   "source": [
    "Variable: <br>\n",
    "shift_value: the value to shift all acceleration values \n",
    "<p> in this application, the shift value from the experiment results, is approximately to be (initial accelration)/2</p>"
   ]
  },
  {
   "cell_type": "code",
   "execution_count": 8,
   "metadata": {},
   "outputs": [],
   "source": [
    "def accAdjust(df):\n",
    "    '''Generate the Acc-Y-Adjusted and take the shift value into account'''\n",
    "    \n",
    "    # Column index of Acc-Y-Adjusted: 7\n",
    "    \n",
    "    # Make a copy of the acc-y data and store it in acc_Y\n",
    "    # While doing so, change the data from a \"g\" based value to a ms^(-2) value\n",
    "    acc_Y = []\n",
    "    for i in range(len(df)):\n",
    "        acc_Y.append(-df.iloc[i,4]*9.8)\n",
    "        \n",
    "    # Filter to remove noise\n",
    "    # Use the previous adjusted values in acc_Y\n",
    "    n = 15  # the larger n is, the smoother curve will be\n",
    "    b = [1.0 / n] * n # b, numerator coefficient vector in a 1-D sequence\n",
    "    a = 1 # a, denominator coefficient vector in a 1-D sequence\n",
    "    acc_Y_filtered = lfilter(b,a,acc_Y)\n",
    "    \n",
    "    # Set final filtered data to equal column \"Acc-Y-Adjusted\"\n",
    "    df[\"Acc-Y-Adjusted\"] = acc_Y_filtered\n",
    "    \n",
    "    # Shift the data by a set value\n",
    "    # Crude method by finding the mean of entire dataset\n",
    "    \n",
    "    shift_value = df[\"Acc-Y-Adjusted\"].mean()\n",
    "\n",
    "    for i in range(len(df)):\n",
    "        df.iloc[i,7] = df.iloc[i,7] - shift_value\n"
   ]
  },
  {
   "cell_type": "markdown",
   "metadata": {},
   "source": [
    "## Function to generate V-btw2"
   ]
  },
  {
   "cell_type": "code",
   "execution_count": 9,
   "metadata": {},
   "outputs": [],
   "source": [
    "def dv(df):\n",
    "    '''Generate the d_v using the definition of integration using the Acc-Y-Adjusted values'''\n",
    "    \n",
    "    #index of V-btw2: 8\n",
    "    d_v = [0]\n",
    "    for i in range (1,len(df)):\n",
    "        velocity_each = 0.5*(df.iloc[i,7]+df.iloc[i-1,7])*df.iloc[i,6] #index7: Acc-Y-Adjusted, index6: TimeInterval\n",
    "        d_v.append(velocity_each)\n",
    "    \n",
    "    df[\"V-btw2\"]=d_v"
   ]
  },
  {
   "cell_type": "markdown",
   "metadata": {},
   "source": [
    "## Function to generate V(t)"
   ]
  },
  {
   "cell_type": "code",
   "execution_count": 10,
   "metadata": {},
   "outputs": [],
   "source": [
    "def vt(df):\n",
    "    '''Generate the v(t) colomn to record the instantanious velocity in any data point'''\n",
    "    \n",
    "    #index of V(t): 9\n",
    "    false_list = [0]*len(df)\n",
    "    df[\"V(t)\"] = false_list\n",
    "    \n",
    "    for i in range(1,len(df)):\n",
    "    # index8: V-btw2\n",
    "        ins_v = df.iloc[i,8]+df.iloc[i-1,9]\n",
    "        df.iloc[i,9] = ins_v"
   ]
  },
  {
   "cell_type": "markdown",
   "metadata": {},
   "source": [
    "## Function to generate S-btw2"
   ]
  },
  {
   "cell_type": "code",
   "execution_count": 11,
   "metadata": {},
   "outputs": [],
   "source": [
    "def ds(df):\n",
    "    '''Generate the d_s using the definition of integration using the V(t) values'''\n",
    "    \n",
    "    #index of S-btw2: 10\n",
    "    d_s = [0]\n",
    "    for i in range (1,len(df)):\n",
    "        # index9: v(t), index6: TimeInterval\n",
    "        displacement_each = 0.5*(df.iloc[i,9]+df.iloc[i-1,9])*df.iloc[i,6]\n",
    "        d_s.append(displacement_each)\n",
    "        \n",
    "    df[\"S-btw2\"] = d_s"
   ]
  },
  {
   "cell_type": "markdown",
   "metadata": {},
   "source": [
    "## Function to generate S(t)"
   ]
  },
  {
   "cell_type": "code",
   "execution_count": 12,
   "metadata": {},
   "outputs": [],
   "source": [
    "def st(df):\n",
    "    '''Generate the s(t) colomn to record the instantanious displacement in any data point'''\n",
    "    \n",
    "    #index of V(t): 11\n",
    "    false_list = [0]*len(df)\n",
    "    df[\"S(t)\"] = false_list\n",
    "    \n",
    "    for i in range(1,len(df)):\n",
    "        # index10: S-btw2\n",
    "        ins_v = df.iloc[i,10]+df.iloc[i-1,11]\n",
    "        df.iloc[i,11] = ins_v"
   ]
  },
  {
   "cell_type": "markdown",
   "metadata": {},
   "source": [
    "## Function to integrate all the functions in this section"
   ]
  },
  {
   "cell_type": "code",
   "execution_count": 13,
   "metadata": {},
   "outputs": [],
   "source": [
    "def dfFormat(df, dfFormatArgs):\n",
    "    df = truncateStationaryValues(df)\n",
    "    df = df.reset_index(drop=True)\n",
    "    \n",
    "    timeElapsed(df, dfFormatArgs[\"TimestampInMs\"])\n",
    "    timeInterval(df)\n",
    "    accAdjust(df)\n",
    "    dv(df)\n",
    "    vt(df)\n",
    "    ds(df)\n",
    "    st(df)\n",
    "    \n",
    "    return df"
   ]
  },
  {
   "cell_type": "markdown",
   "metadata": {},
   "source": [
    "# 4) Physical Property Determination (Data Insights)"
   ]
  },
  {
   "cell_type": "markdown",
   "metadata": {},
   "source": [
    "## Total Distance Travelled"
   ]
  },
  {
   "cell_type": "code",
   "execution_count": 14,
   "metadata": {},
   "outputs": [],
   "source": [
    "def distance(df):\n",
    "    '''Get the total distance travelled'''\n",
    "    \n",
    "    Total_Distance_Travelled = max(df[\"S(t)\"])\n",
    "    \n",
    "    return Total_Distance_Travelled"
   ]
  },
  {
   "cell_type": "markdown",
   "metadata": {},
   "source": [
    "## Total Time Taken"
   ]
  },
  {
   "cell_type": "code",
   "execution_count": 15,
   "metadata": {},
   "outputs": [],
   "source": [
    "def totalTime(df):\n",
    "    '''Get the total time taken'''\n",
    "    \n",
    "    Total_Time_Taken = df.iloc[len(df)-1,1]\n",
    "    \n",
    "    return Total_Time_Taken"
   ]
  },
  {
   "cell_type": "markdown",
   "metadata": {},
   "source": [
    "## Max Velocity"
   ]
  },
  {
   "cell_type": "code",
   "execution_count": 16,
   "metadata": {},
   "outputs": [],
   "source": [
    "def maxVelocity(df):\n",
    "    '''Get the max velocity'''\n",
    "    \n",
    "    Max_Velocity = max(df[\"V(t)\"])\n",
    "    \n",
    "    return Max_Velocity"
   ]
  },
  {
   "cell_type": "markdown",
   "metadata": {},
   "source": [
    "## Acceleration Cut-off Time & Average Acceleration"
   ]
  },
  {
   "cell_type": "markdown",
   "metadata": {},
   "source": [
    "Variables: <br>\n",
    "negative_acc_list: a list of the index of which the acceleration value is nagetive"
   ]
  },
  {
   "cell_type": "code",
   "execution_count": 17,
   "metadata": {},
   "outputs": [],
   "source": [
    "def acc(df):\n",
    "    '''Get the cut-off time for acceleration & Average Acceleration'''\n",
    "    \n",
    "    negative_acc_list = df[df[\"Acc-Y-Adjusted\"] < 0].index.tolist()\n",
    "    # To avoid early cut-off set the threshhold to be 5% of total journey\n",
    "    while negative_acc_list[0] < 0.05*len(df):\n",
    "        negative_acc_list = negative_acc_list[1:]\n",
    "        \n",
    "    CutOff_Time = df.iloc[negative_acc_list[0],1]\n",
    "    \n",
    "    cutoff_idx = negative_acc_list[0]\n",
    "    acc_list = []\n",
    "    for i in range(cutoff_idx):\n",
    "        acc_list.append(df.iloc[i,7])\n",
    "    Average_Acceleration = sum(acc_list)/len(acc_list)\n",
    "    \n",
    "    return CutOff_Time, Average_Acceleration"
   ]
  },
  {
   "cell_type": "markdown",
   "metadata": {},
   "source": [
    "## Max Acceleration"
   ]
  },
  {
   "cell_type": "code",
   "execution_count": 18,
   "metadata": {},
   "outputs": [],
   "source": [
    "def maxAcc(df):\n",
    "    '''Get the maxium Acceleration'''\n",
    "    \n",
    "    Max_Acceleration = max(df[\"Acc-Y-Adjusted\"])\n",
    "\n",
    "    return Max_Acceleration"
   ]
  },
  {
   "cell_type": "markdown",
   "metadata": {},
   "source": [
    "## Function to integrate all the functions in this section"
   ]
  },
  {
   "cell_type": "code",
   "execution_count": 19,
   "metadata": {},
   "outputs": [],
   "source": [
    "def data(df):\n",
    "    Total_Distance_Travelled = distance(df)\n",
    "    Total_Time_Taken = totalTime(df)\n",
    "    Max_Velocity = maxVelocity(df)\n",
    "    CutOff_Time, Average_Acceleration = acc(df)\n",
    "    Max_Acceleration = maxAcc(df)\n",
    "    \n",
    "    result_data = f'''\n",
    "    # Total distance travelled: {Total_Distance_Travelled} m\n",
    "    # Total time taken: {Total_Time_Taken} s\n",
    "    # Max velocity: {Max_Velocity} m/s\n",
    "    # Cut-off time for acceleration: {CutOff_Time} s\n",
    "    # Average acceleration: {Average_Acceleration} m/s^2\n",
    "    # Max acceleration: {Max_Acceleration} m/s^2\n",
    "    '''\n",
    "    \n",
    "    return result_data"
   ]
  },
  {
   "cell_type": "markdown",
   "metadata": {},
   "source": [
    "# 5) Generating and Saving Graphs"
   ]
  },
  {
   "cell_type": "markdown",
   "metadata": {},
   "source": [
    "## Graph a-t"
   ]
  },
  {
   "cell_type": "code",
   "execution_count": 20,
   "metadata": {},
   "outputs": [],
   "source": [
    "def plotAcc(df,title,CutOff_Time, output_path):\n",
    "    fig, axes = plt.subplots(nrows=1, ncols=1, figsize=(12,6))\n",
    "    axes.set_xlabel('time (s)')\n",
    "    axes.set_ylabel('Acceleration_y (m/s^2)', color='tab:blue')\n",
    "    \n",
    "    t=df[\"TimeElapsed\"]\n",
    "    acc_y=df[\"Acc-Y-Adjusted\"]\n",
    "    axes.plot(t,acc_y,color=\"red\", lw=2, ls='-')\n",
    "    axes.axvline(CutOff_Time, 0, 1, label='Cut-off for acceleration')\n",
    "    axes.axhline(0, color='black')\n",
    "    axes.legend()\n",
    "    axes.title.set_text(title)\n",
    "    \n",
    "    name = title + '-'+ 'Acceleration'\n",
    "    plt.savefig(f'{output_path}/{name}.png')"
   ]
  },
  {
   "cell_type": "markdown",
   "metadata": {},
   "source": [
    "## Graph v-t"
   ]
  },
  {
   "cell_type": "code",
   "execution_count": 21,
   "metadata": {},
   "outputs": [],
   "source": [
    "def plotVelocity(df,title,Max_Velocity, output_path):\n",
    "    fig, axes = plt.subplots(nrows=1, ncols=1, figsize=(12,6))\n",
    "    axes.set_xlabel('time (s)')\n",
    "    axes.set_ylabel('Velocity (m/s)', color='tab:blue')\n",
    "    \n",
    "    t=df[\"TimeElapsed\"]\n",
    "    v=df[\"V(t)\"]\n",
    "    axes.plot(t,v,color=\"red\", lw=2, ls='-')\n",
    "    axes.axhline(Max_Velocity, 0, 1, label='Max Velocity')\n",
    "    axes.legend()\n",
    "    axes.title.set_text(title)\n",
    "    \n",
    "    name = title + '-'+ 'Velocity'\n",
    "    plt.savefig(f'{output_path}/{name}.png')"
   ]
  },
  {
   "cell_type": "markdown",
   "metadata": {},
   "source": [
    "## Graph s-t"
   ]
  },
  {
   "cell_type": "code",
   "execution_count": 22,
   "metadata": {},
   "outputs": [],
   "source": [
    "def plotDisplacement(df,title,Total_Distance_Travelled, output_path):\n",
    "    fig, axes = plt.subplots(nrows=1, ncols=1, figsize=(12,6))\n",
    "    axes.set_xlabel('time (s)')\n",
    "    axes.set_ylabel('Displacement (m)', color='tab:blue')\n",
    "    \n",
    "    t=df[\"TimeElapsed\"]\n",
    "    s=df[\"S(t)\"]\n",
    "    axes.plot(t,s,color=\"red\", lw=2, ls='-')\n",
    "    axes.axhline(Total_Distance_Travelled, 0, 1, label='Total Distance Travelled')\n",
    "    axes.legend()\n",
    "    axes.title.set_text(title)\n",
    "    \n",
    "    name = title + '-'+ 'Displacement'\n",
    "    plt.savefig(f'{output_path}/{name}.png')"
   ]
  },
  {
   "cell_type": "markdown",
   "metadata": {},
   "source": [
    "# 6) Calculating and Generating Output"
   ]
  },
  {
   "cell_type": "code",
   "execution_count": 23,
   "metadata": {},
   "outputs": [],
   "source": [
    "def mkdir_p(mypath):\n",
    "    '''Creates a directory. equivalent to using mkdir -p on the command line'''\n",
    "\n",
    "    from errno import EEXIST\n",
    "    from os import makedirs,path\n",
    "\n",
    "    try:\n",
    "        makedirs(mypath)\n",
    "    except OSError as exc: # Python >2.5\n",
    "        if exc.errno == EEXIST and path.isdir(mypath):\n",
    "            pass\n",
    "        else: raise"
   ]
  },
  {
   "cell_type": "markdown",
   "metadata": {},
   "source": [
    "## Run it all (Main function)"
   ]
  },
  {
   "cell_type": "code",
   "execution_count": 24,
   "metadata": {},
   "outputs": [],
   "source": [
    "def main():\n",
    "    # To do\n",
    "    # - truncateStationaryValue has a -e*9.81 implemented there so it will need to be skipped if the data given is already in ms^(-2)\n",
    "    # - need to add that option above\n",
    "    # - semicolon delimiters support\n",
    "    # - variable set and saving \n",
    "    \n",
    "    # User Input\n",
    "    output_dir = \"/\" + input(\"Please input the relative path ending with the desired folder name for output: \") # i.e. \"../output/out-1\"\n",
    "    file_name = input(\"Please input the relative path to csv file: \") # i.e. \"example_data/UC_EXPO_first.csv\" or \"../data/file-1.csv\"\n",
    "    timestampType = input(\"Is the timestamp in milliseconds (ms) or in seconds (s)?\").lower()\n",
    "    isInMs = (timestampType == \"ms\")\n",
    "    dfFormatArgs = {\"TimestampInMs\": isInMs}\n",
    "    \n",
    "    # Setup Output Path\n",
    "    my_path = os.path.realpath(\"\")\n",
    "    output_path = my_path + output_dir\n",
    "    mkdir_p(output_path)\n",
    "    \n",
    "    print(\"Results will be available at: {}\".format(output_path))\n",
    "    \n",
    "    # Get the title of the file\n",
    "    title = file_name.split('.')[-2]\n",
    "    #print(title) # Debug\n",
    "    if ('/' in title):\n",
    "        additionalSplit = title.split('/')\n",
    "        title = additionalSplit[len(additionalSplit) - 1]\n",
    "    \n",
    "    # Reads csv file. Saves the new formatted file and converts it into a pandas data frame\n",
    "    df = csv2df(file_name, title, output_path)\n",
    "    # Calculations to get the adjusted acceleration, velocity, and displacement\n",
    "    df = dfFormat(df, dfFormatArgs) \n",
    "    \n",
    "    # Save the DataFrame as the csv file\n",
    "    formatted_csv_path = output_path + \"/\" + title + \"-formatted.csv\"\n",
    "    df.to_csv(formatted_csv_path)\n",
    "    \n",
    "    # Calculate Data Insights\n",
    "    result_data = data(df)\n",
    "    \n",
    "    # Save Data Insights to File\n",
    "    formatted_output_path = output_path + \"/\" + title + \"-insights.txt\"\n",
    "    insights_file = open(formatted_output_path,\"w\",newline='')\n",
    "    insights_file.write(result_data)\n",
    "    insights_file.close()\n",
    "    \n",
    "    # The next three lines are for use in plotting as parameters\n",
    "    Total_Distance_Travelled = distance(df)\n",
    "    Max_Velocity = maxVelocity(df)\n",
    "    CutOff_Time, Average_Acceleration = acc(df)\n",
    "    \n",
    "    # Plot & save data to specified output location\n",
    "    plotAcc(df,title, CutOff_Time, output_path)\n",
    "    plotVelocity(df, title, Max_Velocity, output_path)\n",
    "    plotDisplacement(df, title, Total_Distance_Travelled, output_path)"
   ]
  },
  {
   "cell_type": "code",
   "execution_count": null,
   "metadata": {
    "scrolled": false
   },
   "outputs": [
    {
     "name": "stdout",
     "output_type": "stream",
     "text": [
      "Enter [1] to start and [0] to exit: 1\n",
      "Please input the reletive path ending with the desired folder name for output: ../data/analysis/cq-to-ct\n",
      "Please input the relative path to csv file: ../data/3-1-cq-to-ct.csv\n",
      "Is the timestamp in milliseconds (ms) or in seconds (s)?s\n",
      "Results will be available at: /home/elviskasonlin/Code/projects/sutd-1d-physicalworld/python/../data/analysis/cq-to-ct\n",
      "Enter the row number to start data input (0 for the first row): \n",
      "Start Index: 1\n",
      "Enter the row interval for acceleration (if each row is the reading for acceleration, just enter 1): \n",
      "Row Interval: 1\n",
      "Enter the Column ID in A1 format (e.g. A, B, C) for the following items:\n",
      "Time-stamp: a\n",
      "Acceleration X: r\n",
      "Acceleration Y: s\n",
      "Acceleration Z: t\n",
      "Confirm entry? [Y]/[N]: y\n"
     ]
    }
   ],
   "source": [
    "uchoice = 1\n",
    "uchoice = int(input(\"Enter [1] to start and [0] to exit: \"))\n",
    "while (uchoice == 1):\n",
    "    main()\n",
    "    uchoice = int(input(\"Enter [1] to start and [0] to exit: \"))"
   ]
  },
  {
   "cell_type": "code",
   "execution_count": null,
   "metadata": {},
   "outputs": [],
   "source": []
  }
 ],
 "metadata": {
  "kernelspec": {
   "display_name": "Python 3",
   "language": "python",
   "name": "python3"
  },
  "language_info": {
   "codemirror_mode": {
    "name": "ipython",
    "version": 3
   },
   "file_extension": ".py",
   "mimetype": "text/x-python",
   "name": "python",
   "nbconvert_exporter": "python",
   "pygments_lexer": "ipython3",
   "version": "3.8.3"
  }
 },
 "nbformat": 4,
 "nbformat_minor": 2
}
