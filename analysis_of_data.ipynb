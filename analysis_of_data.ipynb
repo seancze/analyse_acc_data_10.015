{
 "cells": [
  {
   "cell_type": "code",
   "execution_count": null,
   "metadata": {},
   "outputs": [],
   "source": [
    "import pandas as pd\n",
    "import numpy as np\n",
    "import matplotlib.pyplot as plt\n",
    "import math\n",
    "import time\n",
    "start_time = time.time()\n",
    "\n",
    "# Used for loading csv files into excel\n",
    "import openpyxl\n",
    "from openpyxl.utils.dataframe import dataframe_to_rows\n",
    "import os\n",
    "import glob"
   ]
  },
  {
   "cell_type": "code",
   "execution_count": null,
   "metadata": {},
   "outputs": [],
   "source": [
    "df = pd.read_excel(r\"/Users/Sean/Desktop/Analysis of Data.xlsx\")\n"
   ]
  },
  {
   "cell_type": "code",
   "execution_count": null,
   "metadata": {},
   "outputs": [],
   "source": [
    "# Dropped anomalous readings\n",
    "above_ground = df[(df[\"Above Ground\"]==\"Yes\") & (df[\"Distance Travelled (m)\"] > 1000)]\n",
    "below_ground = df[(df[\"Above Ground\"]==\"No\") & (df[\"Distance Travelled (m)\"] > 1000)]\n",
    "# Note: Anomalous readings are from 61-67"
   ]
  },
  {
   "cell_type": "code",
   "execution_count": null,
   "metadata": {},
   "outputs": [],
   "source": [
    "# Initialise variables\n",
    "\n",
    "# Mean Acceleration\n",
    "below_ground_y = below_ground[\"Mean Acceleration (ms^-2)\"]\n",
    "above_ground_y = above_ground[\"Mean Acceleration (ms^-2)\"]\n",
    "\n",
    "# Total Distance\n",
    "below_ground_x = below_ground[\"Distance Travelled (m)\"]\n",
    "above_ground_x = above_ground[\"Distance Travelled (m)\"]\n",
    "\n",
    "# Total Time Taken\n",
    "below_ground_t = below_ground[\"Total Time Taken (s)\"]\n",
    "above_ground_t = above_ground[\"Total Time Taken (s)\"]\n",
    "\n",
    "# Max Velocity\n",
    "below_ground_v = below_ground[\"Max Velocity (ms^-1)\"]\n",
    "above_ground_v = above_ground[\"Max Velocity (ms^-1)\"]\n",
    "\n",
    "# Mean Velocity\n",
    "below_ground_mean_v = below_ground[\"Distance Travelled (m)\"] / below_ground[\"Total Time Taken (s)\"]\n",
    "above_ground_mean_v = above_ground[\"Distance Travelled (m)\"] / above_ground[\"Total Time Taken (s)\"]"
   ]
  },
  {
   "cell_type": "code",
   "execution_count": null,
   "metadata": {},
   "outputs": [],
   "source": [
    "plt.scatter(below_ground_t, below_ground_y, c='b', label='Below Ground')\n",
    "plt.scatter(above_ground_t, above_ground_y, c='r', label='Above Ground')\n",
    "plt.xlabel('Total Time Taken (s)')\n",
    "plt.ylabel('Mean Acceleration (ms^-2)')\n",
    "plt.legend(loc='best')\n",
    "plt.gcf().set_size_inches((10, 10))  \n",
    "plt.show()"
   ]
  },
  {
   "cell_type": "code",
   "execution_count": null,
   "metadata": {},
   "outputs": [],
   "source": [
    "plt.scatter(below_ground_x, below_ground_v, c='b', label='Below Ground')\n",
    "plt.scatter(above_ground_x, above_ground_v, c='r', label='Above Ground')\n",
    "plt.xlabel('Distance Travelled (m)')\n",
    "plt.ylabel('Max Velocity (ms^-1)')\n",
    "plt.legend(loc='best')\n",
    "plt.show()"
   ]
  },
  {
   "cell_type": "code",
   "execution_count": null,
   "metadata": {},
   "outputs": [],
   "source": [
    "plt.scatter(below_ground_x, below_ground_mean_v, c='b', label='Below Ground')\n",
    "plt.scatter(above_ground_x, above_ground_mean_v, c='r', label='Above Ground')\n",
    "plt.xlabel('Distance Travelled (m)')\n",
    "plt.ylabel('Mean Velocity (ms^-1)')\n",
    "plt.legend(loc='best')\n",
    "plt.show()"
   ]
  },
  {
   "cell_type": "code",
   "execution_count": null,
   "metadata": {},
   "outputs": [],
   "source": [
    "plt.scatter(below_ground_x, below_ground_t, c='b', label='Below Ground')\n",
    "plt.scatter(above_ground_x, above_ground_t, c='r', label='Above Ground')\n",
    "plt.xlabel('Total Distance Travelled (m)')\n",
    "plt.ylabel('Total Time Taken (s)')\n",
    "plt.legend(loc='best')\n",
    "plt.gcf().set_size_inches((10, 10))    \n",
    "plt.show()"
   ]
  },
  {
   "cell_type": "code",
   "execution_count": null,
   "metadata": {},
   "outputs": [],
   "source": [
    "# To remove samples which still appear slightly anomalous\n",
    "below_ground_x_2 = below_ground[below_ground[\"Total Time Taken (s)\"] < 200][\"Distance Travelled (m)\"]\n",
    "above_ground_x_2 = above_ground[above_ground[\"Total Time Taken (s)\"] < 200][\"Distance Travelled (m)\"]"
   ]
  },
  {
   "cell_type": "code",
   "execution_count": null,
   "metadata": {},
   "outputs": [],
   "source": [
    "mean_t_below = below_ground_t[below_ground_t < 200].mean()\n",
    "mean_t_above = above_ground_t[above_ground_t < 200].mean()\n",
    "median_t_below = below_ground_t[below_ground_t < 200].median()\n",
    "median_t_above = above_ground_t[above_ground_t < 200].median()\n",
    "\n",
    "mean_v_below = sum(below_ground_x_2) / sum(below_ground_t[below_ground_t < 200])\n",
    "mean_v_above = sum(above_ground_x_2) / sum(above_ground_t[above_ground_t < 200])\n",
    "\n",
    "print(\n",
    "f'''\n",
    "Number of samples below ground = {len(below_ground_t[below_ground_t < 200])}\n",
    "Number of samples above ground = {len(above_ground_t[above_ground_t < 200])}\n",
    "\n",
    "Mean t (Below) = {mean_t_below}\n",
    "Median t (Below) = {median_t_below}\n",
    "Mean v (Below) = {mean_v_below}\n",
    "Mean t (Above) = {mean_t_above}\n",
    "Median t (Above) = {median_t_above}\n",
    "Mean v (Above) = {mean_v_above}\n",
    "Difference in mean t = {mean_t_above - mean_t_below}\n",
    "Difference in median t = {median_t_above - median_t_below}\n",
    "Difference in average v = {mean_v_above - mean_v_below}\n",
    "''')"
   ]
  },
  {
   "cell_type": "code",
   "execution_count": null,
   "metadata": {},
   "outputs": [],
   "source": [
    "above_ground[above_ground[\"Distance Travelled (m)\"] > 4000]"
   ]
  },
  {
   "cell_type": "code",
   "execution_count": null,
   "metadata": {},
   "outputs": [],
   "source": [
    "below_ground[below_ground[\"Distance Travelled (m)\"] < 1000]"
   ]
  }
 ],
 "metadata": {
  "kernelspec": {
   "display_name": "Python 3",
   "language": "python",
   "name": "python3"
  },
  "language_info": {
   "codemirror_mode": {
    "name": "ipython",
    "version": 3
   },
   "file_extension": ".py",
   "mimetype": "text/x-python",
   "name": "python",
   "nbconvert_exporter": "python",
   "pygments_lexer": "ipython3",
   "version": "3.7.4"
  }
 },
 "nbformat": 4,
 "nbformat_minor": 2
}
