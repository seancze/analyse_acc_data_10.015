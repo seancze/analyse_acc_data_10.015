{
 "cells": [
  {
   "cell_type": "code",
   "execution_count": null,
   "metadata": {},
   "outputs": [],
   "source": [
    "import pandas as pd\n",
    "import numpy as np\n",
    "import matplotlib.pyplot as plt\n",
    "import math\n",
    "import time\n",
    "start_time = time.time()\n",
    "\n",
    "# Used for loading csv files into excel\n",
    "import openpyxl\n",
    "from openpyxl.utils.dataframe import dataframe_to_rows\n",
    "import os\n",
    "import glob"
   ]
  },
  {
   "cell_type": "code",
   "execution_count": null,
   "metadata": {},
   "outputs": [],
   "source": [
    "df = pd.read_excel(r\"\")\n",
    "# Anomalous readings: Sixth Avenue > KAP (13), Upp Changi > Tamp East (23, 26), Tamp East > Upp Changi (24), CCK to Gombak (53), Entire NEL (67-72)\n"
   ]
  },
  {
   "cell_type": "code",
   "execution_count": null,
   "metadata": {},
   "outputs": [],
   "source": [
    "# pd.set_option('display.max_rows', 500)\n",
    "# Remove Anomalous readings\n",
    "df = df.drop([13, 23, 26, 24, 53])\n",
    "df = df.drop(range(67,73))"
   ]
  },
  {
   "cell_type": "code",
   "execution_count": null,
   "metadata": {},
   "outputs": [],
   "source": [
    "# Drop readings < 700m as deemed as anomalous\n",
    "above_ground = df[(df[\"Above Ground\"]==\"Yes\") & (df[\"Distance Travelled (m)\"] > 700)]\n",
    "below_ground = df[(df[\"Above Ground\"]==\"No\") & (df[\"Distance Travelled (m)\"] > 700)]"
   ]
  },
  {
   "cell_type": "code",
   "execution_count": null,
   "metadata": {},
   "outputs": [],
   "source": [
    "# Initialise variables\n",
    "\n",
    "# Mean Acceleration\n",
    "below_ground_y = below_ground[\"Mean Acceleration (ms^-2)\"]\n",
    "above_ground_y = above_ground[\"Mean Acceleration (ms^-2)\"]\n",
    "\n",
    "# Total Distance\n",
    "below_ground_x = below_ground[\"Distance Travelled (m)\"]\n",
    "above_ground_x = above_ground[\"Distance Travelled (m)\"]\n",
    "\n",
    "# Total Time Taken\n",
    "below_ground_t = below_ground[\"Total Time Taken (s)\"]\n",
    "above_ground_t = above_ground[\"Total Time Taken (s)\"]\n",
    "\n",
    "# Max Velocity\n",
    "below_ground_v = below_ground[\"Max Velocity (ms^-1)\"]\n",
    "above_ground_v = above_ground[\"Max Velocity (ms^-1)\"]\n",
    "\n",
    "# Mean Velocity\n",
    "below_ground_mean_v = below_ground[\"Distance Travelled (m)\"] / below_ground[\"Total Time Taken (s)\"]\n",
    "above_ground_mean_v = above_ground[\"Distance Travelled (m)\"] / above_ground[\"Total Time Taken (s)\"]"
   ]
  },
  {
   "cell_type": "code",
   "execution_count": null,
   "metadata": {},
   "outputs": [],
   "source": [
    "plt.scatter(below_ground_t, below_ground_y, c='b', label='Below Ground')\n",
    "plt.scatter(above_ground_t, above_ground_y, c='r', label='Above Ground')\n",
    "plt.xlabel('Total Time Taken (s)')\n",
    "plt.ylabel('Mean Acceleration (ms^-2)')\n",
    "plt.legend(loc='best')\n",
    "plt.gcf().set_size_inches((10, 10))  \n",
    "plt.show()"
   ]
  },
  {
   "cell_type": "code",
   "execution_count": null,
   "metadata": {},
   "outputs": [],
   "source": [
    "plt.scatter(below_ground_x, below_ground_v, c='b', label='Below Ground')\n",
    "plt.scatter(above_ground_x, above_ground_v, c='r', label='Above Ground')\n",
    "plt.xlabel('Distance Travelled (m)')\n",
    "plt.ylabel('Max Velocity (ms^-1)')\n",
    "plt.legend(loc='best')\n",
    "plt.show()"
   ]
  },
  {
   "cell_type": "code",
   "execution_count": null,
   "metadata": {},
   "outputs": [],
   "source": [
    "plt.scatter(below_ground_x, below_ground_mean_v, c='b', label='Below Ground')\n",
    "plt.scatter(above_ground_x, above_ground_mean_v, c='r', label='Above Ground')\n",
    "plt.xlabel('Distance Travelled (m)')\n",
    "plt.ylabel('Mean Velocity (ms^-1)')\n",
    "plt.legend(loc='best')\n",
    "plt.show()"
   ]
  },
  {
   "cell_type": "code",
   "execution_count": null,
   "metadata": {},
   "outputs": [],
   "source": [
    "plt.scatter(below_ground_x, below_ground_t, c='b', label='Below Ground')\n",
    "plt.scatter(above_ground_x, above_ground_t, c='r', label='Above Ground')\n",
    "plt.title('Time-Distance Graph')\n",
    "plt.xlabel('Total Distance Travelled (m)')\n",
    "plt.ylabel('Total Time Taken (s)')\n",
    "plt.legend(loc='best')\n",
    "plt.gcf().set_size_inches((10, 10))    \n",
    "plt.show()\n",
    "\n",
    "plt.scatter(below_ground_t, below_ground_x, c='b', label='Below Ground')\n",
    "plt.scatter(above_ground_t, above_ground_x, c='r', label='Above Ground')\n",
    "plt.title('Distance-Time Graph')\n",
    "plt.xlabel('Total Time Taken (s)')\n",
    "plt.ylabel('Total Distance Travelled (m)')\n",
    "plt.legend(loc='best')\n",
    "plt.gcf().set_size_inches((10, 10))    \n",
    "plt.show()"
   ]
  },
  {
   "cell_type": "code",
   "execution_count": null,
   "metadata": {},
   "outputs": [],
   "source": [
    "# To remove samples which still appear slightly anomalous and to analyse the subset of data where dist travelled is > 700m and less than 3000m\n",
    "below_ground_2 = below_ground[below_ground[\"Distance Travelled (m)\"] < 3000]\n",
    "above_ground_2 = above_ground[above_ground[\"Distance Travelled (m)\"] < 3000]"
   ]
  },
  {
   "cell_type": "code",
   "execution_count": null,
   "metadata": {},
   "outputs": [],
   "source": [
    "# Mean Acceleration\n",
    "bg2_y = below_ground_2[\"Mean Acceleration (ms^-2)\"]\n",
    "ag2_y = above_ground_2[\"Mean Acceleration (ms^-2)\"]\n",
    "\n",
    "# Total Distance\n",
    "bg2_x = below_ground_2[\"Distance Travelled (m)\"]\n",
    "ag2_x = above_ground_2[\"Distance Travelled (m)\"]\n",
    "\n",
    "# Total Time Taken\n",
    "bg2_t = below_ground_2[\"Total Time Taken (s)\"]\n",
    "ag2_t = above_ground_2[\"Total Time Taken (s)\"]\n",
    "\n",
    "# Max Velocity\n",
    "bg2_v = below_ground_2[\"Max Velocity (ms^-1)\"]\n",
    "ag2_v = above_ground_2[\"Max Velocity (ms^-1)\"]\n",
    "\n",
    "# Mean Velocity\n",
    "bg2_mv = below_ground_2[\"Distance Travelled (m)\"] / below_ground_2[\"Total Time Taken (s)\"]\n",
    "ag2_mv = above_ground_2[\"Distance Travelled (m)\"] / above_ground_2[\"Total Time Taken (s)\"]"
   ]
  },
  {
   "cell_type": "code",
   "execution_count": null,
   "metadata": {},
   "outputs": [],
   "source": [
    "plt.scatter(bg2_t, bg2_x, c='b', label='Below Ground')\n",
    "plt.scatter(ag2_t, ag2_x, c='r', label='Above Ground')\n",
    "plt.title(\"Distance-Time Graph\")\n",
    "plt.xlabel('Total Time Taken (s)')\n",
    "plt.ylabel('Total Distance Travelled (m)')\n",
    "plt.legend(loc='best')\n",
    "plt.gcf().set_size_inches((10, 10))    \n",
    "plt.show()\n",
    "\n",
    "print(\"Above ground takes a longer time than Below ground\")"
   ]
  },
  {
   "cell_type": "code",
   "execution_count": null,
   "metadata": {},
   "outputs": [],
   "source": [
    "# Acceleration-Distance Graph\n",
    "plt.scatter(bg2_x, bg2_y, c='b', label='Below Ground')\n",
    "plt.scatter(ag2_x, ag2_y, c='r', label='Above Ground')\n",
    "plt.title('Acceleration-Distance Graph')\n",
    "plt.xlabel('Total Distance Travelled (m)')\n",
    "plt.ylabel('Mean Acceleration (ms^-2)')\n",
    "plt.legend(loc='best')\n",
    "plt.gcf().set_size_inches((10, 10))  \n",
    "plt.show()\n",
    "\n",
    "print(\"No discernible difference\")"
   ]
  },
  {
   "cell_type": "code",
   "execution_count": null,
   "metadata": {},
   "outputs": [],
   "source": [
    "# Mean Time Taken\n",
    "mean_t_below = bg2_t.mean()\n",
    "mean_t_above = ag2_t.mean()\n",
    "\n",
    "# Median Time Taken\n",
    "median_t_below = bg2_t.median()\n",
    "median_t_above = ag2_t.median()\n",
    "\n",
    "# Mean Velocity\n",
    "mean_v_below = sum(bg2_x) / sum(bg2_t)\n",
    "mean_v_above = sum(ag2_x) / sum(ag2_t)\n",
    "\n",
    "# Mean Acceleration\n",
    "mean_a_below = bg2_y.mean()\n",
    "mean_a_above = ag2_y.mean()\n",
    "\n",
    "print(\n",
    "f'''\n",
    "Taking samples where distance travelled is between 700m and 3000m:\n",
    "\n",
    "Number of samples below ground = {len(below_ground_2)}\n",
    "Number of samples above ground = {len(above_ground_2)}\n",
    "\n",
    "Mean t (Below) = {mean_t_below}\n",
    "Median t (Below) = {median_t_below}\n",
    "Mean t (Above) = {mean_t_above}\n",
    "Median t (Above) = {median_t_above}\n",
    "\n",
    "Mean v (Below) = {mean_v_below}\n",
    "Mean v (Above) = {mean_v_above}\n",
    "\n",
    "Mean a (Below) = {mean_a_below}\n",
    "Mean a (Above) = {mean_a_above}\n",
    "\n",
    "Mean t (Above) - Mean t (Below) = {mean_t_above - mean_t_below} ['+' = Above SLOWER than BELOW]\n",
    "Median t (Above) - Median t (Below) = {median_t_above - median_t_below} ['+' = Above SLOWER than BELOW]\n",
    "Mean v (Above) - Mean v (Below) = {mean_v_above - mean_v_below} ['-' = Above SLOWER than BELOW]\n",
    "Mean a (Above) - Mean a (Below) = {mean_a_above - mean_a_below} [Negligible difference]\n",
    "\n",
    "Conclusion:\n",
    "In terms of mean velocity and mean time taken, trains travelling above ground do run slower than that below ground.\n",
    "However, based on our results, this is not significantly affected by the time trains take to accelerate.\n",
    "However, it may be significantly affected by the time trains take to decelerate as trains travelling above ground often take a while to stop.\n",
    "''')"
   ]
  }
 ],
 "metadata": {
  "kernelspec": {
   "display_name": "Python 3",
   "language": "python",
   "name": "python3"
  },
  "language_info": {
   "codemirror_mode": {
    "name": "ipython",
    "version": 3
   },
   "file_extension": ".py",
   "mimetype": "text/x-python",
   "name": "python",
   "nbconvert_exporter": "python",
   "pygments_lexer": "ipython3",
   "version": "3.7.4"
  }
 },
 "nbformat": 4,
 "nbformat_minor": 2
}
